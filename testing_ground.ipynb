{
 "cells": [
  {
   "cell_type": "code",
   "execution_count": 1182,
   "metadata": {},
   "outputs": [],
   "source": [
    "import importlib\n",
    "import numpy\n",
    "from scripts import NN\n",
    "from scripts import io\n",
    "import math as m\n",
    "importlib.reload(NN)\n",
    "importlib.reload(io)\n",
    "import random as rand"
   ]
  },
  {
   "cell_type": "code",
   "execution_count": 1120,
   "metadata": {},
   "outputs": [
    {
     "data": {
      "text/plain": [
       "range(10, 1)"
      ]
     },
     "execution_count": 1120,
     "metadata": {},
     "output_type": "execute_result"
    }
   ],
   "source": [
    "range(10,1\n",
    "     )"
   ]
  },
  {
   "cell_type": "code",
   "execution_count": 1121,
   "metadata": {},
   "outputs": [],
   "source": [
    "setup = [8,3,8]\n",
    "alpha = 0.5\n",
    "lamba = 0 #0.1 is good\n",
    "batch_size = 500 \n",
    "bias  = 1\n",
    "test_NN = NN.NeuralNetwork(setup,NN.activation,alpha,lamba,batch_size,bias)"
   ]
  },
  {
   "cell_type": "code",
   "execution_count": 1115,
   "metadata": {},
   "outputs": [
    {
     "name": "stdout",
     "output_type": "stream",
     "text": [
      "beginning output [0.50128714 0.49928878 0.49845851 0.49684476 0.50694181 0.50334066\n",
      " 0.49926478 0.49655854]\n",
      "beginning edge matrices [array([[ 0.00650296,  0.00551604,  0.0114284 ,  0.01355279, -0.00869043,\n",
      "        -0.01414708,  0.01031349,  0.01396521],\n",
      "       [ 0.01126441,  0.00171739,  0.0089979 , -0.01525815, -0.00550799,\n",
      "         0.00758793,  0.00100932, -0.01210404],\n",
      "       [ 0.0136908 ,  0.02444211, -0.01609706,  0.00313769,  0.01193234,\n",
      "        -0.02027193, -0.00280215, -0.00550992]]), array([[-0.00807972,  0.01012265, -0.00371897],\n",
      "       [ 0.00160664, -0.0037523 , -0.00573967],\n",
      "       [-0.01149291,  0.00114549, -0.00186755],\n",
      "       [-0.01002888,  0.0056873 , -0.01378045],\n",
      "       [ 0.01526199,  0.00891817,  0.01403473],\n",
      "       [ 0.00415287,  0.00841683,  0.00127555],\n",
      "       [ 0.00030081, -0.00098116,  0.00336071],\n",
      "       [-0.00748888,  0.00761323,  0.00279018]])]\n",
      "beginning biases [array([-0.00649088, -0.01030009,  0.01155076]), array([ 6.01775259e-03,  1.12275335e-03, -8.66218859e-05, -3.49480471e-03,\n",
      "        8.67235675e-03,  6.48172976e-03, -4.30351461e-03, -1.52380184e-02])]\n"
     ]
    }
   ],
   "source": [
    "test_NN.get_single_input([0,0,0,0,1,0,0,0])\n",
    "test_NN.feedforward()\n",
    "print(\"beginning output\",test_NN.layer_a[1])\n",
    "print(\"beginning edge matrices\",test_NN.edge_matrices)\n",
    "print(\"beginning biases\",test_NN.biases)"
   ]
  },
  {
   "cell_type": "code",
   "execution_count": 1050,
   "metadata": {},
   "outputs": [
    {
     "data": {
      "text/plain": [
       "[array([-0.00381447, -0.00307658,  0.02832413]),\n",
       " array([-0.01516339, -0.01051464, -0.01488656, -0.01218689, -0.00059767,\n",
       "        -0.00539187, -0.02374283,  0.00143058])]"
      ]
     },
     "execution_count": 1050,
     "metadata": {},
     "output_type": "execute_result"
    }
   ],
   "source": [
    "test_NN.layer_z"
   ]
  },
  {
   "cell_type": "code",
   "execution_count": 1051,
   "metadata": {},
   "outputs": [
    {
     "data": {
      "text/plain": [
       "[array([0.49904638, 0.49923086, 0.50708056]),\n",
       " array([0.49620922, 0.49737136, 0.49627843, 0.49695331, 0.49985058,\n",
       "        0.49865204, 0.49406457, 0.50035765])]"
      ]
     },
     "execution_count": 1051,
     "metadata": {},
     "output_type": "execute_result"
    }
   ],
   "source": [
    "test_NN.layer_a"
   ]
  },
  {
   "cell_type": "code",
   "execution_count": 1116,
   "metadata": {},
   "outputs": [
    {
     "name": "stdout",
     "output_type": "stream",
     "text": [
      "[array([[-0.        , -0.        , -0.        , -0.        , -0.00143498,\n",
      "        -0.        , -0.        , -0.        ],\n",
      "       [ 0.        ,  0.        ,  0.        ,  0.        ,  0.00060795,\n",
      "         0.        ,  0.        ,  0.        ],\n",
      "       [-0.        , -0.        , -0.        , -0.        , -0.00098241,\n",
      "        -0.        , -0.        , -0.        ]]), array([[ 0.06218485,  0.06216522,  0.06339617],\n",
      "       [ 0.06193724,  0.06191768,  0.06314374],\n",
      "       [ 0.06183378,  0.06181426,  0.06303827],\n",
      "       [ 0.06163173,  0.06161227,  0.06283227],\n",
      "       [-0.06115266, -0.06113335, -0.06234388],\n",
      "       [ 0.06243722,  0.0624175 ,  0.06365346],\n",
      "       [ 0.06193425,  0.0619147 ,  0.0631407 ],\n",
      "       [ 0.06159576,  0.06157631,  0.06279561]])]\n",
      "[array([-0.00143498,  0.00060795, -0.00098241]), array([ 0.12532095,  0.12482194,  0.12461344,  0.12420624, -0.12324079,\n",
      "        0.12582955,  0.12481593,  0.12413376])]\n"
     ]
    }
   ],
   "source": [
    "test_NN.test_backprop()"
   ]
  },
  {
   "cell_type": "code",
   "execution_count": 774,
   "metadata": {},
   "outputs": [],
   "source": [
    "training_batch = []\n",
    "batch_number = 1\n",
    "input_size   = 8\n",
    "for i in range(batch_number):\n",
    "    temp_input = numpy.zeros((input_size))\n",
    "    rand_index = int(numpy.floor(rand.random()*8)-1)\n",
    "    #print(rand_index)\n",
    "    temp_input[rand_index] = 1\n",
    "    #print(temp_input)\n",
    "    #temp_input = [0,0,1,0,1,1,1,0]        \n",
    "    training_batch.append(temp_input)    \n"
   ]
  },
  {
   "cell_type": "code",
   "execution_count": 1117,
   "metadata": {},
   "outputs": [
    {
     "ename": "TypeError",
     "evalue": "get_training_set() missing 1 required positional argument: 'answers'",
     "output_type": "error",
     "traceback": [
      "\u001b[0;31m---------------------------------------------------------------------------\u001b[0m",
      "\u001b[0;31mTypeError\u001b[0m                                 Traceback (most recent call last)",
      "\u001b[0;32m<ipython-input-1117-c6174ab86f7b>\u001b[0m in \u001b[0;36m<module>\u001b[0;34m\u001b[0m\n\u001b[0;32m----> 1\u001b[0;31m \u001b[0mtest_NN\u001b[0m\u001b[0;34m.\u001b[0m\u001b[0mget_training_set\u001b[0m\u001b[0;34m(\u001b[0m\u001b[0mtraining_batch\u001b[0m\u001b[0;34m)\u001b[0m\u001b[0;34m\u001b[0m\u001b[0;34m\u001b[0m\u001b[0m\n\u001b[0m",
      "\u001b[0;31mTypeError\u001b[0m: get_training_set() missing 1 required positional argument: 'answers'"
     ]
    }
   ],
   "source": [
    "test_NN.get_training_set(training_batch)"
   ]
  },
  {
   "cell_type": "code",
   "execution_count": 1124,
   "metadata": {},
   "outputs": [
    {
     "name": "stdout",
     "output_type": "stream",
     "text": [
      "num batch is  1 1 1 1 1 1 1 1 1 1 1 1 1 1 1 1 1 1 1 1 1 1 1 1 1 1 1 1 1 1 1 1 1 1 1 11 1 1 1 1 1 1 1 1 1 1 1 1 1 11 1 1 1 1 1 1 1 1 1 1 1 11 1 1 11 1 1 1 1 1 1 1 1 1 1 1 1 1 1 1 1 1 1 1 1 11 1 1 1 11 1\r"
     ]
    }
   ],
   "source": [
    "epoch_number = 100000\n",
    "cost_list = []\n",
    "for j in range(epoch_number):\n",
    "    training_batch = numpy.zeros((input_size))\n",
    "    rand_index = int(numpy.floor(rand.random()*8)-1)\n",
    "    training_batch[rand_index] = 1\n",
    "    training_batch = [training_batch]\n",
    "    training_answer = training_batch\n",
    "    #print(training_batch)\n",
    "    test_NN.get_training_set(training_batch,training_answer)\n",
    "    cost_list.append(test_NN.batch_descent())\n",
    "    #print(\"j is \",j,end='\\r')"
   ]
  },
  {
   "cell_type": "code",
   "execution_count": 1125,
   "metadata": {},
   "outputs": [
    {
     "name": "stdout",
     "output_type": "stream",
     "text": [
      "final output [array([0.00295889, 0.97076234, 0.5204794 ]), array([2.29180528e-02, 2.95550898e-05, 2.34611366e-03, 9.30497717e-07,\n",
      "       4.42116663e-08, 1.26748286e-02, 9.66668891e-01, 3.05259783e-02])]\n",
      "final edge matrices [array([[-0.01466662,  6.38421816, -4.99823637,  3.49635405,  1.50016745,\n",
      "        -2.66692978, -5.28523594,  1.05931228],\n",
      "       [ 3.07567437,  2.33985147, -3.8349551 , -4.88779491, -4.41840468,\n",
      "        -1.7570223 ,  3.90764627,  5.21559167],\n",
      "       [-5.63778222, -0.70385175, -2.57388536,  2.88535918, -4.52840416,\n",
      "         4.54239708,  0.22475133,  5.61954945]]), array([[ -2.74869068,   8.6556197 , -16.22621774],\n",
      "       [ 13.37432084,   5.20722909,  -4.07643751],\n",
      "       [-11.10256792,  -6.60615184,  -7.28951489],\n",
      "       [  7.72329125,  -7.94410364,   6.17517663],\n",
      "       [  9.30930168,  -8.64424605, -10.64806599],\n",
      "       [ -8.96739362,  -4.66771399,   9.55146183],\n",
      "       [-14.92849002,   9.04620683,   2.28091129],\n",
      "       [  2.57296612,   7.35921929,  10.29858229]])]\n",
      "final biases [array([-0.5347411 , -0.40502202, -0.14278787]), array([ -3.70165014, -13.40207838,   4.18725087,  -9.41261321,\n",
      "        -3.02821477,  -4.76894599,  -6.55734764, -15.97004164])]\n"
     ]
    }
   ],
   "source": [
    "test_NN.get_single_input([0,0,0,0,0,0,1,0])\n",
    "test_NN.feedforward()\n",
    "print(\"final output\",test_NN.layer_a)\n",
    "print(\"final edge matrices\",test_NN.edge_matrices)\n",
    "print(\"final biases\",test_NN.biases)"
   ]
  },
  {
   "cell_type": "code",
   "execution_count": 1023,
   "metadata": {},
   "outputs": [
    {
     "ename": "IndexError",
     "evalue": "list index out of range",
     "output_type": "error",
     "traceback": [
      "\u001b[0;31m---------------------------------------------------------------------------\u001b[0m",
      "\u001b[0;31mIndexError\u001b[0m                                Traceback (most recent call last)",
      "\u001b[0;32m<ipython-input-1023-0f1e3236357c>\u001b[0m in \u001b[0;36m<module>\u001b[0;34m\u001b[0m\n\u001b[1;32m      1\u001b[0m \u001b[0mtest_NN\u001b[0m\u001b[0;34m.\u001b[0m\u001b[0mfeedforward\u001b[0m\u001b[0;34m(\u001b[0m\u001b[0;34m)\u001b[0m\u001b[0;34m\u001b[0m\u001b[0;34m\u001b[0m\u001b[0m\n\u001b[0;32m----> 2\u001b[0;31m \u001b[0mtest_NN\u001b[0m\u001b[0;34m.\u001b[0m\u001b[0mlayer_a\u001b[0m\u001b[0;34m[\u001b[0m\u001b[0;36m2\u001b[0m\u001b[0;34m]\u001b[0m\u001b[0;34m\u001b[0m\u001b[0;34m\u001b[0m\u001b[0m\n\u001b[0m",
      "\u001b[0;31mIndexError\u001b[0m: list index out of range"
     ]
    }
   ],
   "source": [
    "test_NN.feedforward()\n",
    "test_NN.layer_a[2]"
   ]
  },
  {
   "cell_type": "code",
   "execution_count": 501,
   "metadata": {},
   "outputs": [
    {
     "data": {
      "text/plain": [
       "[array([1., 1., 1.]),\n",
       " array([1., 1., 1.]),\n",
       " array([1., 1., 1., 1., 1., 1., 1., 1.])]"
      ]
     },
     "execution_count": 501,
     "metadata": {},
     "output_type": "execute_result"
    }
   ],
   "source": [
    "test_NN.biases"
   ]
  },
  {
   "cell_type": "code",
   "execution_count": 676,
   "metadata": {},
   "outputs": [
    {
     "name": "stdout",
     "output_type": "stream",
     "text": [
      "errors are  [array([-0.00060107, -0.00036175, -0.00107644]), array([ 0.14460224,  0.14386716, -0.05266448,  0.14382756, -0.05353651,\n",
      "       -0.0523875 , -0.05208211,  0.14391227])]\n",
      "[array([[-0.00043551, -0.00043885, -0.00043982, -0.00043902, -0.00043819,\n",
      "        -0.00044034, -0.00044091, -0.00043866],\n",
      "       [-0.00026211, -0.00026412, -0.0002647 , -0.00026422, -0.00026372,\n",
      "        -0.00026501, -0.00026536, -0.000264  ],\n",
      "       [-0.00077995, -0.00078592, -0.00078766, -0.00078623, -0.00078473,\n",
      "        -0.00078859, -0.00078961, -0.00078557]]), array([[ 0.10563829,  0.10521293,  0.10541185],\n",
      "       [ 0.10510127,  0.10467808,  0.10487599],\n",
      "       [-0.03847372, -0.0383188 , -0.03839125],\n",
      "       [ 0.10507235,  0.10464927,  0.10484712],\n",
      "       [-0.03911077, -0.03895329, -0.03902694],\n",
      "       [-0.03827137, -0.03811727, -0.03818933],\n",
      "       [-0.03804827, -0.03789506, -0.03796671],\n",
      "       [ 0.10513423,  0.1047109 ,  0.10490887]])]\n",
      "[array([-0.00060107, -0.00036175, -0.00107644]), array([ 0.14460224,  0.14386716, -0.05266448,  0.14382756, -0.05353651,\n",
      "       -0.0523875 , -0.05208211,  0.14391227])]\n"
     ]
    }
   ],
   "source": [
    "test_NN.test_backprop()"
   ]
  },
  {
   "cell_type": "code",
   "execution_count": 309,
   "metadata": {},
   "outputs": [],
   "source": [
    "test_NN."
   ]
  },
  {
   "cell_type": "code",
   "execution_count": 310,
   "metadata": {},
   "outputs": [],
   "source": [
    "for layer in setup:\n",
    "    input_layers.append(numpy.zeros((layer[0],1)))"
   ]
  },
  {
   "cell_type": "code",
   "execution_count": 311,
   "metadata": {},
   "outputs": [
    {
     "data": {
      "text/plain": [
       "0.0"
      ]
     },
     "execution_count": 311,
     "metadata": {},
     "output_type": "execute_result"
    }
   ],
   "source": [
    "input_layers[0][0][0]"
   ]
  },
  {
   "cell_type": "code",
   "execution_count": 312,
   "metadata": {},
   "outputs": [
    {
     "name": "stdout",
     "output_type": "stream",
     "text": [
      "[ 0 10 20]\n",
      "[ 0 10 20]\n"
     ]
    },
    {
     "data": {
      "text/plain": [
       "array([  0,  50, 400])"
      ]
     },
     "execution_count": 312,
     "metadata": {},
     "output_type": "execute_result"
    }
   ],
   "source": [
    "x = [0,10,20]\n",
    "y = [2,5,20]\n",
    "x=numpy.array(x)\n",
    "print(numpy.transpose(x))\n",
    "print(x)\n",
    "x*y"
   ]
  },
  {
   "cell_type": "code",
   "execution_count": 751,
   "metadata": {},
   "outputs": [
    {
     "ename": "TypeError",
     "evalue": "'type' object is not subscriptable",
     "output_type": "error",
     "traceback": [
      "\u001b[0;31m---------------------------------------------------------------------------\u001b[0m",
      "\u001b[0;31mTypeError\u001b[0m                                 Traceback (most recent call last)",
      "\u001b[0;32m<ipython-input-751-9da1e1879055>\u001b[0m in \u001b[0;36m<module>\u001b[0;34m\u001b[0m\n\u001b[0;32m----> 1\u001b[0;31m \u001b[0mrange\u001b[0m\u001b[0;34m[\u001b[0m\u001b[0;36m10\u001b[0m\u001b[0;34m,\u001b[0m\u001b[0;36m1\u001b[0m\u001b[0;34m,\u001b[0m\u001b[0;34m-\u001b[0m\u001b[0;36m1\u001b[0m\u001b[0;34m]\u001b[0m\u001b[0;34m\u001b[0m\u001b[0;34m\u001b[0m\u001b[0m\n\u001b[0m",
      "\u001b[0;31mTypeError\u001b[0m: 'type' object is not subscriptable"
     ]
    }
   ],
   "source": [
    "range[10,1,-1]"
   ]
  },
  {
   "cell_type": "code",
   "execution_count": 1133,
   "metadata": {},
   "outputs": [],
   "source": [
    "with open('data/yeast-upstream-1k-negative.fa') as f:\n",
    "    lines = f.readlines()"
   ]
  },
  {
   "cell_type": "code",
   "execution_count": 1189,
   "metadata": {},
   "outputs": [
    {
     "data": {
      "text/plain": [
       "True"
      ]
     },
     "execution_count": 1189,
     "metadata": {},
     "output_type": "execute_result"
    }
   ],
   "source": [
    "lines[0][0] == '>'"
   ]
  },
  {
   "cell_type": "code",
   "execution_count": 1186,
   "metadata": {},
   "outputs": [
    {
     "data": {
      "text/plain": [
       "3161"
      ]
     },
     "execution_count": 1186,
     "metadata": {},
     "output_type": "execute_result"
    }
   ],
   "source": [
    "len(test_1)"
   ]
  },
  {
   "cell_type": "code",
   "execution_count": 1154,
   "metadata": {},
   "outputs": [
    {
     "data": {
      "text/plain": [
       "[array([1., 0., 0., 0., 1., 0., 0., 0., 1., 0., 0., 0.]),\n",
       " array([0., 0., 0., 1., 0., 0., 0., 1., 0., 0., 0., 1.]),\n",
       " array([0., 0., 1., 0., 0., 0., 1., 0., 0., 0., 1., 0.]),\n",
       " array([0., 1., 0., 0., 0., 1., 0., 0., 0., 1., 0., 0.])]"
      ]
     },
     "execution_count": 1154,
     "metadata": {},
     "output_type": "execute_result"
    }
   ],
   "source": [
    "test_encode = ['AAA','CCC','GGG','TTT']\n",
    "io.one_hot_encode(test_encode)"
   ]
  },
  {
   "cell_type": "code",
   "execution_count": 1167,
   "metadata": {},
   "outputs": [],
   "source": [
    "test = io.import_positives('data/rap1-lieb-positives.txt')"
   ]
  },
  {
   "cell_type": "code",
   "execution_count": 1183,
   "metadata": {},
   "outputs": [],
   "source": [
    "test_1 = io.import_negatives('data/yeast-upstream-1k-negative.fa',17)"
   ]
  },
  {
   "cell_type": "code",
   "execution_count": 1161,
   "metadata": {},
   "outputs": [
    {
     "data": {
      "text/plain": [
       "[array([0., 0., 0., 1., 1., 0., 0., 0., 0., 1., 0., 0., 0., 0., 0., 1., 0.,\n",
       "        0., 0., 1., 0., 0., 1., 0., 0., 1., 0., 0., 0., 0., 1., 0., 0., 0.,\n",
       "        0., 1., 1., 0., 0., 0., 0., 0., 0., 1., 0., 0., 0., 1., 0., 1., 0.,\n",
       "        0., 0., 0., 0., 1., 0., 0., 0., 1., 1., 0., 0., 0.]),\n",
       " array([0., 0., 0., 1., 1., 0., 0., 0., 0., 0., 0., 1., 0., 0., 0., 1., 0.,\n",
       "        0., 0., 1., 1., 0., 0., 0., 0., 0., 1., 0., 1., 0., 0., 0., 0., 0.,\n",
       "        0., 1., 1., 0., 0., 0., 0., 1., 0., 0., 0., 0., 0., 1., 0., 0., 1.,\n",
       "        0., 0., 0., 1., 0., 0., 0., 1., 0., 1., 0., 0., 0.]),\n",
       " array([0., 0., 0., 1., 1., 0., 0., 0., 0., 0., 0., 1., 0., 0., 0., 1., 0.,\n",
       "        0., 0., 1., 0., 0., 1., 0., 0., 1., 0., 0., 1., 0., 0., 0., 0., 0.,\n",
       "        0., 1., 0., 0., 0., 1., 0., 0., 0., 1., 1., 0., 0., 0., 0., 1., 0.,\n",
       "        0., 0., 0., 1., 0., 1., 0., 0., 0., 0., 0., 0., 1.])]"
      ]
     },
     "execution_count": 1161,
     "metadata": {},
     "output_type": "execute_result"
    }
   ],
   "source": [
    "io.one_hot_encode(test[0:3])"
   ]
  },
  {
   "cell_type": "code",
   "execution_count": 1170,
   "metadata": {},
   "outputs": [
    {
     "data": {
      "text/plain": [
       "3161.5555555555557"
      ]
     },
     "execution_count": 1170,
     "metadata": {},
     "output_type": "execute_result"
    }
   ],
   "source": [
    "56908/18"
   ]
  },
  {
   "cell_type": "code",
   "execution_count": 1192,
   "metadata": {},
   "outputs": [],
   "source": [
    "test = [1,3]\n",
    "test1 = [4,5]\n",
    "final = test + test1\n"
   ]
  },
  {
   "cell_type": "code",
   "execution_count": 1193,
   "metadata": {},
   "outputs": [
    {
     "data": {
      "text/plain": [
       "[1, 3, 4, 5]"
      ]
     },
     "execution_count": 1193,
     "metadata": {},
     "output_type": "execute_result"
    }
   ],
   "source": [
    "final"
   ]
  },
  {
   "cell_type": "code",
   "execution_count": null,
   "metadata": {},
   "outputs": [],
   "source": []
  }
 ],
 "metadata": {
  "kernelspec": {
   "display_name": "Python 3",
   "language": "python",
   "name": "python3"
  },
  "language_info": {
   "codemirror_mode": {
    "name": "ipython",
    "version": 3
   },
   "file_extension": ".py",
   "mimetype": "text/x-python",
   "name": "python",
   "nbconvert_exporter": "python",
   "pygments_lexer": "ipython3",
   "version": "3.8.5"
  }
 },
 "nbformat": 4,
 "nbformat_minor": 4
}
