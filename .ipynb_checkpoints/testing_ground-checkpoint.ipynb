{
 "cells": [
  {
   "cell_type": "code",
   "execution_count": 951,
   "metadata": {},
   "outputs": [],
   "source": [
    "import importlib\n",
    "import numpy\n",
    "from scripts import NN\n",
    "import math as m\n",
    "importlib.reload(NN)\n",
    "import random as rand"
   ]
  },
  {
   "cell_type": "code",
   "execution_count": null,
   "metadata": {},
   "outputs": [],
   "source": []
  },
  {
   "cell_type": "code",
   "execution_count": 952,
   "metadata": {},
   "outputs": [],
   "source": [
    "setup = [8,3,8]\n",
    "alpha = 0.1\n",
    "lamba = 0.1 #0.1 is good\n",
    "batch_size = 500 \n",
    "bias  = 1\n",
    "test_NN = NN.NeuralNetwork(setup,NN.activation,alpha,lamba,batch_size,bias)"
   ]
  },
  {
   "cell_type": "code",
   "execution_count": 953,
   "metadata": {},
   "outputs": [
    {
     "name": "stdout",
     "output_type": "stream",
     "text": [
      "beginning output [0.50281642 0.49779377 0.49626107 0.50159384 0.49944503 0.50231987\n",
      " 0.50120618 0.50147889]\n",
      "beginning edge matrices [array([[ 0.00077177,  0.00256596,  0.0136694 ,  0.00147043, -0.0211788 ,\n",
      "         0.00042535,  0.00426024,  0.00595755],\n",
      "       [ 0.00768699, -0.00739849, -0.00238369,  0.01946258, -0.02319844,\n",
      "        -0.01484238,  0.01547901, -0.00465378],\n",
      "       [-0.00779895, -0.00767717, -0.00739369, -0.00035069, -0.00354418,\n",
      "         0.01028617,  0.014272  , -0.00435116]]), array([[ 0.01130777,  0.00164399,  0.00702468],\n",
      "       [-0.0008451 ,  0.00262656, -0.01802333],\n",
      "       [-0.00498576, -0.01719521,  0.01750905],\n",
      "       [ 0.00361765,  0.00352914,  0.01325188],\n",
      "       [-0.00350302,  0.00224621, -0.01190363],\n",
      "       [-0.01810119,  0.02692199, -0.01010617],\n",
      "       [-0.00128939, -0.00102138,  0.00551863],\n",
      "       [ 0.00107654,  0.00526652,  0.00131675]])]\n",
      "beginning biases [array([9.58298174e-03, 3.22695231e-05, 1.96339920e-02]), array([ 0.00129162, -0.00061879, -0.01280451, -0.00384632,  0.00441106,\n",
      "        0.01006634,  0.00318895,  0.00211398])]\n"
     ]
    }
   ],
   "source": [
    "test_NN.get_single_input([0,0,0,0,1,0,0,0])\n",
    "test_NN.feedforward()\n",
    "print(\"beginning output\",test_NN.layer_a[1])\n",
    "print(\"beginning edge matrices\",test_NN.edge_matrices)\n",
    "print(\"beginning biases\",test_NN.biases)"
   ]
  },
  {
   "cell_type": "code",
   "execution_count": 954,
   "metadata": {},
   "outputs": [
    {
     "data": {
      "text/plain": [
       "[array([-0.01159582, -0.02316617,  0.01608981]),\n",
       " array([ 0.0112658 , -0.00882498, -0.01495601,  0.00637539, -0.0022199 ,\n",
       "         0.00927957,  0.00482473,  0.00591557])]"
      ]
     },
     "execution_count": 954,
     "metadata": {},
     "output_type": "execute_result"
    }
   ],
   "source": [
    "test_NN.layer_z"
   ]
  },
  {
   "cell_type": "code",
   "execution_count": 955,
   "metadata": {},
   "outputs": [
    {
     "data": {
      "text/plain": [
       "[array([0.49710108, 0.49420872, 0.50402236]),\n",
       " array([0.50281642, 0.49779377, 0.49626107, 0.50159384, 0.49944503,\n",
       "        0.50231987, 0.50120618, 0.50147889])]"
      ]
     },
     "execution_count": 955,
     "metadata": {},
     "output_type": "execute_result"
    }
   ],
   "source": [
    "test_NN.layer_a"
   ]
  },
  {
   "cell_type": "code",
   "execution_count": 956,
   "metadata": {},
   "outputs": [
    {
     "name": "stdout",
     "output_type": "stream",
     "text": [
      "[array([[-0.        , -0.        , -0.        , -0.        , -0.00017749,\n",
      "        -0.        , -0.        , -0.        ],\n",
      "       [ 0.        ,  0.        ,  0.        ,  0.        ,  0.00061862,\n",
      "         0.        ,  0.        ,  0.        ],\n",
      "       [ 0.        ,  0.        ,  0.        ,  0.        ,  0.0008877 ,\n",
      "         0.        ,  0.        ,  0.        ]]), array([[ 0.06248566,  0.06212209,  0.06335567],\n",
      "       [ 0.06186225,  0.06150231,  0.06272358],\n",
      "       [ 0.06166953,  0.06131071,  0.06252817],\n",
      "       [ 0.06233508,  0.06197238,  0.06320299],\n",
      "       [-0.06220653, -0.06184458, -0.06307265],\n",
      "       [ 0.06242459,  0.06206138,  0.06329375],\n",
      "       [ 0.06228717,  0.06192476,  0.06315441],\n",
      "       [ 0.06232088,  0.06195827,  0.06318859]])]\n",
      "[array([-0.00017749,  0.00061862,  0.0008877 ]), array([ 0.12570012,  0.12444602,  0.12405833,  0.12539719, -0.12513859,\n",
      "        0.12557727,  0.12530082,  0.12536863])]\n"
     ]
    }
   ],
   "source": [
    "test_NN.test_backprop()"
   ]
  },
  {
   "cell_type": "code",
   "execution_count": 774,
   "metadata": {},
   "outputs": [],
   "source": [
    "training_batch = []\n",
    "batch_number = 1\n",
    "input_size   = 8\n",
    "for i in range(batch_number):\n",
    "    temp_input = numpy.zeros((input_size))\n",
    "    rand_index = int(numpy.floor(rand.random()*8)-1)\n",
    "    #print(rand_index)\n",
    "    temp_input[rand_index] = 1\n",
    "    #print(temp_input)\n",
    "    #temp_input = [0,0,1,0,1,1,1,0]        \n",
    "    training_batch.append(temp_input)    \n"
   ]
  },
  {
   "cell_type": "code",
   "execution_count": 771,
   "metadata": {},
   "outputs": [],
   "source": [
    "test_NN.get_training_set(training_batch)"
   ]
  },
  {
   "cell_type": "code",
   "execution_count": 957,
   "metadata": {},
   "outputs": [
    {
     "name": "stdout",
     "output_type": "stream",
     "text": [
      "epoch cost is  [0.12642313 0.12390042 0.12311301 0.12419579 0.12472199 0.1261848\n",
      " 0.12560209 0.12574848]\n",
      "epoch cost is  [0.12364212 0.12118532 0.12042607 0.12304086 0.12198929 0.12340884\n",
      " 0.12717056 0.12298604]\n",
      "epoch cost is  [0.12092939 0.11856156 0.1177952  0.1297492  0.11934312 0.12072691\n",
      " 0.12016465 0.12029914]\n",
      "epoch cost is  [0.11829243 0.11599935 0.11524405 0.13250325 0.1167613  0.11810655\n",
      " 0.11755472 0.11768352]\n",
      "epoch cost is  [0.11574006 0.11352071 0.13784856 0.11517104 0.11426152 0.11554884\n",
      " 0.11502661 0.11514768]\n",
      "epoch cost is  [0.11323173 0.1110835  0.11035061 0.1379584  0.11180709 0.11307754\n",
      " 0.11254622 0.11266416]\n",
      "epoch cost is  [0.1108211  0.10874304 0.14321365 0.11027793 0.10944625 0.11066153\n",
      " 0.11015856 0.11026925]\n",
      "epoch cost is  [0.10847311 0.10645644 0.10577201 0.10794733 0.10714503 0.14287013\n",
      " 0.10783968 0.10794074]\n",
      "epoch cost is  [0.1061384  0.10418662 0.10350136 0.10562644 0.10485682 0.10601759\n",
      " 0.14612253 0.10562646]\n",
      "epoch cost is  [0.10391268 0.10203438 0.1013466  0.14863377 0.10268499 0.1038147\n",
      " 0.10332352 0.10342175]\n"
     ]
    }
   ],
   "source": [
    "epoch_number = 10\n",
    "cost_list = []\n",
    "for j in range(epoch_number):\n",
    "    training_batch = numpy.zeros((input_size))\n",
    "    rand_index = int(numpy.floor(rand.random()*8)-1)\n",
    "    training_batch[rand_index] = 1\n",
    "    training_batch = [training_batch]\n",
    "    #print(training_batch)\n",
    "    test_NN.get_training_set(training_batch)\n",
    "    cost_list.appned(test_NN.batch_descent())\n",
    "    #print(\"j is \",j,end='\\r')"
   ]
  },
  {
   "cell_type": "code",
   "execution_count": 958,
   "metadata": {},
   "outputs": [
    {
     "name": "stdout",
     "output_type": "stream",
     "text": [
      "final output [array([0.50462275, 0.49971907, 0.50470272]), array([0.45120548, 0.44717243, 0.44566874, 0.45011363, 0.44858509,\n",
      "       0.45098842, 0.44995181, 0.45015291])]\n",
      "final edge matrices [array([[ 0.00069798,  0.00232061,  0.01379567,  0.00406312, -0.01915373,\n",
      "         0.00135303,  0.00511951,  0.00538791],\n",
      "       [ 0.00695197, -0.00669106, -0.00091955,  0.01982819, -0.02098025,\n",
      "        -0.01255345,  0.01506273, -0.00420879],\n",
      "       [-0.00705323, -0.0069431 , -0.00534053,  0.00219109, -0.0032053 ,\n",
      "         0.01022744,  0.01408388, -0.00393511]]), array([[-0.0472577 , -0.05588862, -0.05135131],\n",
      "       [-0.05765038, -0.054403  , -0.07340383],\n",
      "       [-0.06119127, -0.07212601, -0.04106435],\n",
      "       [-0.05406105, -0.05403257, -0.0455675 ],\n",
      "       [-0.06025655, -0.05494897, -0.06807245],\n",
      "       [-0.07380866, -0.03298176, -0.06679799],\n",
      "       [-0.05846088, -0.05811003, -0.05252317],\n",
      "       [-0.05635353, -0.05245566, -0.05635574]])]\n",
      "final biases [array([0.01617091, 0.00556733, 0.02575453]), array([-0.11810819, -0.11877686, -0.13053996, -0.122932  , -0.11416694,\n",
      "       -0.10923761, -0.11581743, -0.11695963])]\n"
     ]
    }
   ],
   "source": [
    "test_NN.get_single_input([0,1,0,0,0,0,0,0])\n",
    "test_NN.feedforward()\n",
    "print(\"final output\",test_NN.layer_a)\n",
    "print(\"final edge matrices\",test_NN.edge_matrices)\n",
    "print(\"final biases\",test_NN.biases)"
   ]
  },
  {
   "cell_type": "code",
   "execution_count": 899,
   "metadata": {},
   "outputs": [
    {
     "ename": "IndexError",
     "evalue": "list index out of range",
     "output_type": "error",
     "traceback": [
      "\u001b[0;31m---------------------------------------------------------------------------\u001b[0m",
      "\u001b[0;31mIndexError\u001b[0m                                Traceback (most recent call last)",
      "\u001b[0;32m<ipython-input-899-0f1e3236357c>\u001b[0m in \u001b[0;36m<module>\u001b[0;34m\u001b[0m\n\u001b[1;32m      1\u001b[0m \u001b[0mtest_NN\u001b[0m\u001b[0;34m.\u001b[0m\u001b[0mfeedforward\u001b[0m\u001b[0;34m(\u001b[0m\u001b[0;34m)\u001b[0m\u001b[0;34m\u001b[0m\u001b[0;34m\u001b[0m\u001b[0m\n\u001b[0;32m----> 2\u001b[0;31m \u001b[0mtest_NN\u001b[0m\u001b[0;34m.\u001b[0m\u001b[0mlayer_a\u001b[0m\u001b[0;34m[\u001b[0m\u001b[0;36m2\u001b[0m\u001b[0;34m]\u001b[0m\u001b[0;34m\u001b[0m\u001b[0;34m\u001b[0m\u001b[0m\n\u001b[0m",
      "\u001b[0;31mIndexError\u001b[0m: list index out of range"
     ]
    }
   ],
   "source": [
    "test_NN.feedforward()\n",
    "test_NN.layer_a[2]"
   ]
  },
  {
   "cell_type": "code",
   "execution_count": 501,
   "metadata": {},
   "outputs": [
    {
     "data": {
      "text/plain": [
       "[array([1., 1., 1.]),\n",
       " array([1., 1., 1.]),\n",
       " array([1., 1., 1., 1., 1., 1., 1., 1.])]"
      ]
     },
     "execution_count": 501,
     "metadata": {},
     "output_type": "execute_result"
    }
   ],
   "source": [
    "test_NN.biases"
   ]
  },
  {
   "cell_type": "code",
   "execution_count": 676,
   "metadata": {},
   "outputs": [
    {
     "name": "stdout",
     "output_type": "stream",
     "text": [
      "errors are  [array([-0.00060107, -0.00036175, -0.00107644]), array([ 0.14460224,  0.14386716, -0.05266448,  0.14382756, -0.05353651,\n",
      "       -0.0523875 , -0.05208211,  0.14391227])]\n",
      "[array([[-0.00043551, -0.00043885, -0.00043982, -0.00043902, -0.00043819,\n",
      "        -0.00044034, -0.00044091, -0.00043866],\n",
      "       [-0.00026211, -0.00026412, -0.0002647 , -0.00026422, -0.00026372,\n",
      "        -0.00026501, -0.00026536, -0.000264  ],\n",
      "       [-0.00077995, -0.00078592, -0.00078766, -0.00078623, -0.00078473,\n",
      "        -0.00078859, -0.00078961, -0.00078557]]), array([[ 0.10563829,  0.10521293,  0.10541185],\n",
      "       [ 0.10510127,  0.10467808,  0.10487599],\n",
      "       [-0.03847372, -0.0383188 , -0.03839125],\n",
      "       [ 0.10507235,  0.10464927,  0.10484712],\n",
      "       [-0.03911077, -0.03895329, -0.03902694],\n",
      "       [-0.03827137, -0.03811727, -0.03818933],\n",
      "       [-0.03804827, -0.03789506, -0.03796671],\n",
      "       [ 0.10513423,  0.1047109 ,  0.10490887]])]\n",
      "[array([-0.00060107, -0.00036175, -0.00107644]), array([ 0.14460224,  0.14386716, -0.05266448,  0.14382756, -0.05353651,\n",
      "       -0.0523875 , -0.05208211,  0.14391227])]\n"
     ]
    }
   ],
   "source": [
    "test_NN.test_backprop()"
   ]
  },
  {
   "cell_type": "code",
   "execution_count": 309,
   "metadata": {},
   "outputs": [],
   "source": [
    "test_NN."
   ]
  },
  {
   "cell_type": "code",
   "execution_count": 310,
   "metadata": {},
   "outputs": [],
   "source": [
    "for layer in setup:\n",
    "    input_layers.append(numpy.zeros((layer[0],1)))"
   ]
  },
  {
   "cell_type": "code",
   "execution_count": 311,
   "metadata": {},
   "outputs": [
    {
     "data": {
      "text/plain": [
       "0.0"
      ]
     },
     "execution_count": 311,
     "metadata": {},
     "output_type": "execute_result"
    }
   ],
   "source": [
    "input_layers[0][0][0]"
   ]
  },
  {
   "cell_type": "code",
   "execution_count": 312,
   "metadata": {},
   "outputs": [
    {
     "name": "stdout",
     "output_type": "stream",
     "text": [
      "[ 0 10 20]\n",
      "[ 0 10 20]\n"
     ]
    },
    {
     "data": {
      "text/plain": [
       "array([  0,  50, 400])"
      ]
     },
     "execution_count": 312,
     "metadata": {},
     "output_type": "execute_result"
    }
   ],
   "source": [
    "x = [0,10,20]\n",
    "y = [2,5,20]\n",
    "x=numpy.array(x)\n",
    "print(numpy.transpose(x))\n",
    "print(x)\n",
    "x*y"
   ]
  },
  {
   "cell_type": "code",
   "execution_count": 751,
   "metadata": {},
   "outputs": [
    {
     "ename": "TypeError",
     "evalue": "'type' object is not subscriptable",
     "output_type": "error",
     "traceback": [
      "\u001b[0;31m---------------------------------------------------------------------------\u001b[0m",
      "\u001b[0;31mTypeError\u001b[0m                                 Traceback (most recent call last)",
      "\u001b[0;32m<ipython-input-751-9da1e1879055>\u001b[0m in \u001b[0;36m<module>\u001b[0;34m\u001b[0m\n\u001b[0;32m----> 1\u001b[0;31m \u001b[0mrange\u001b[0m\u001b[0;34m[\u001b[0m\u001b[0;36m10\u001b[0m\u001b[0;34m,\u001b[0m\u001b[0;36m1\u001b[0m\u001b[0;34m,\u001b[0m\u001b[0;34m-\u001b[0m\u001b[0;36m1\u001b[0m\u001b[0;34m]\u001b[0m\u001b[0;34m\u001b[0m\u001b[0;34m\u001b[0m\u001b[0m\n\u001b[0m",
      "\u001b[0;31mTypeError\u001b[0m: 'type' object is not subscriptable"
     ]
    }
   ],
   "source": [
    "range[10,1,-1]"
   ]
  },
  {
   "cell_type": "code",
   "execution_count": null,
   "metadata": {},
   "outputs": [],
   "source": []
  }
 ],
 "metadata": {
  "kernelspec": {
   "display_name": "Python 3",
   "language": "python",
   "name": "python3"
  },
  "language_info": {
   "codemirror_mode": {
    "name": "ipython",
    "version": 3
   },
   "file_extension": ".py",
   "mimetype": "text/x-python",
   "name": "python",
   "nbconvert_exporter": "python",
   "pygments_lexer": "ipython3",
   "version": "3.8.5"
  }
 },
 "nbformat": 4,
 "nbformat_minor": 4
}
