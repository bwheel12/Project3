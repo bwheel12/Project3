{
 "cells": [
  {
   "cell_type": "code",
   "execution_count": 390,
   "metadata": {},
   "outputs": [],
   "source": [
    "import importlib\n",
    "import numpy\n",
    "from scripts import NN\n",
    "import math as m\n",
    "from scripts import io\n",
    "importlib.reload(NN)\n",
    "importlib.reload(io)\n",
    "import random as rand\n",
    "import matplotlib.mlab as mlab\n",
    "import matplotlib.pyplot as plt\n"
   ]
  },
  {
   "cell_type": "markdown",
   "metadata": {},
   "source": [
    "these chunks implement the auto encoder"
   ]
  },
  {
   "cell_type": "code",
   "execution_count": 205,
   "metadata": {},
   "outputs": [],
   "source": [
    "#this instantiates the auto encoder\n",
    "setup = [8,3,8]\n",
    "alpha = 0.5\n",
    "lamba = 0 #weight decay is not used for autoencoder\n",
    "auto_NN = NN.NeuralNetwork(setup,NN.activation,alpha,lamba)"
   ]
  },
  {
   "cell_type": "code",
   "execution_count": 206,
   "metadata": {},
   "outputs": [],
   "source": [
    "#this trains the auto_encoder\n",
    "epoch_number = 100000\n",
    "cost_list = []\n",
    "input_size   = 8\n",
    "for j in range(epoch_number):\n",
    "    training_batch = numpy.zeros((input_size))\n",
    "    rand_index = int(numpy.ceil(rand.random()*8)-1)\n",
    "    training_batch[rand_index] = 1\n",
    "    training_batch = [training_batch]\n",
    "    training_answer = training_batch\n",
    "    auto_NN.get_training_set(training_batch,training_answer)\n",
    "    cost_list.append(auto_NN.batch_descent())"
   ]
  },
  {
   "cell_type": "code",
   "execution_count": 207,
   "metadata": {},
   "outputs": [
    {
     "name": "stdout",
     "output_type": "stream",
     "text": [
      "the prediction for [1,0,0,0,0,0,0,0] is [9.79727212e-01 1.53094409e-02 3.25173509e-09 2.09684319e-02\n",
      " 1.75147571e-07 1.14415014e-06 1.44821140e-02 1.56150118e-02]\n",
      "the prediction for [0,1,0,0,0,0,0,0] is [9.90448783e-03 9.66005519e-01 2.38158372e-02 6.65336975e-07\n",
      " 7.13244508e-05 2.15230681e-07 2.87706165e-02 4.64508485e-03]\n",
      "the prediction for [0,0,1,0,0,0,0,0] is [4.35542772e-06 2.66628068e-02 9.63102609e-01 1.03980429e-06\n",
      " 2.85981312e-02 1.52458997e-03 1.46079136e-04 3.72702271e-03]\n",
      "the prediction for [0,0,0,1,0,0,0,0] is [1.17355953e-02 6.44710733e-09 7.10260075e-10 9.75482908e-01\n",
      " 1.46594277e-02 1.42136688e-02 1.81216855e-02 2.43916923e-06]\n",
      "the prediction for [0,0,0,0,1,0,0,0] is [4.93183306e-07 4.32298292e-06 2.21393564e-02 1.07754038e-03\n",
      " 9.62659164e-01 9.38827416e-03 2.22960991e-02 4.36910160e-07]\n",
      "the prediction for [0,0,0,0,0,1,0,0] is [8.48385802e-06 4.14770874e-08 1.02407095e-02 2.02608809e-02\n",
      " 2.17175464e-02 9.75149768e-01 2.98183420e-07 1.71110214e-02]\n",
      "the prediction for [0,0,0,0,0,0,1,0] is [6.92269749e-03 1.47086503e-02 2.30436247e-06 9.57974836e-04\n",
      " 2.07064115e-02 1.57551017e-07 9.61300449e-01 3.18886779e-07]\n",
      "the prediction for [0,0,0,0,0,0,0,1] is [1.50162664e-02 4.73758710e-03 1.38098639e-02 7.93140118e-05\n",
      " 1.02065379e-06 2.06524441e-02 1.74740124e-07 9.73662369e-01]\n"
     ]
    }
   ],
   "source": [
    "#this chunk displays that the autoencoder has the correct behavior\n",
    "print(\"the prediction for [1,0,0,0,0,0,0,0] is\", auto_NN.predict([1,0,0,0,0,0,0,0]))\n",
    "print(\"the prediction for [0,1,0,0,0,0,0,0] is\", auto_NN.predict([0,1,0,0,0,0,0,0]))\n",
    "print(\"the prediction for [0,0,1,0,0,0,0,0] is\", auto_NN.predict([0,0,1,0,0,0,0,0]))\n",
    "print(\"the prediction for [0,0,0,1,0,0,0,0] is\", auto_NN.predict([0,0,0,1,0,0,0,0]))\n",
    "print(\"the prediction for [0,0,0,0,1,0,0,0] is\", auto_NN.predict([0,0,0,0,1,0,0,0]))\n",
    "print(\"the prediction for [0,0,0,0,0,1,0,0] is\", auto_NN.predict([0,0,0,0,0,1,0,0]))\n",
    "print(\"the prediction for [0,0,0,0,0,0,1,0] is\", auto_NN.predict([0,0,0,0,0,0,1,0]))\n",
    "print(\"the prediction for [0,0,0,0,0,0,0,1] is\", auto_NN.predict([0,0,0,0,0,0,0,1]))"
   ]
  },
  {
   "cell_type": "code",
   "execution_count": 208,
   "metadata": {},
   "outputs": [
    {
     "data": {
      "text/plain": [
       "[<matplotlib.lines.Line2D at 0x7fd531125070>,\n",
       " <matplotlib.lines.Line2D at 0x7fd531125160>,\n",
       " <matplotlib.lines.Line2D at 0x7fd531125220>,\n",
       " <matplotlib.lines.Line2D at 0x7fd5311252e0>,\n",
       " <matplotlib.lines.Line2D at 0x7fd5311253a0>,\n",
       " <matplotlib.lines.Line2D at 0x7fd531125460>,\n",
       " <matplotlib.lines.Line2D at 0x7fd531125520>,\n",
       " <matplotlib.lines.Line2D at 0x7fd5311255e0>]"
      ]
     },
     "execution_count": 208,
     "metadata": {},
     "output_type": "execute_result"
    },
    {
     "data": {
      "image/png": "[encoded data removed]",
      "text/plain": [
       "<Figure size 432x288 with 1 Axes>"
      ]
     },
     "metadata": {
      "needs_background": "light"
     },
     "output_type": "display_data"
    }
   ],
   "source": [
    "plt.plot(cost_list)"
   ]
  },
  {
   "cell_type": "markdown",
   "metadata": {},
   "source": [
    "these chunks implement a simple classifier very similar to auto encoder, but to classify based on position of the on-bit in input vector\n",
    "this is likely good for testing and is not needed in this notebook"
   ]
  },
  {
   "cell_type": "code",
   "execution_count": 222,
   "metadata": {},
   "outputs": [],
   "source": [
    "setup = [8,3,1]\n",
    "alpha = 0.5\n",
    "lamba = 0 #0.1 is good\n",
    "classy_NN = NN.NeuralNetwork(setup,NN.activation,alpha,lamba)"
   ]
  },
  {
   "cell_type": "code",
   "execution_count": 223,
   "metadata": {},
   "outputs": [],
   "source": [
    "epoch_number = 5000\n",
    "cost_list = []\n",
    "batch_number = 1\n",
    "input_size   = 8\n",
    "output_size  = 1\n",
    "for j in range(epoch_number):\n",
    "    training_list = []\n",
    "    answer_list   = []\n",
    "    for k in range(batch_size):\n",
    "        training_batch = numpy.zeros((input_size))\n",
    "        training_answer = numpy.zeros((output_size))\n",
    "        rand_index = int(numpy.ceil(rand.random()*8)-1)\n",
    "        training_batch[rand_index] = 1\n",
    "        training_list.append(training_batch)\n",
    "        if rand_index > 3: \n",
    "            training_answer[0] = 1\n",
    "        answer_list.append(training_answer)\n",
    "    classy_NN.get_training_set(training_list,answer_list)\n",
    "    cost_list.append(classy_NN.batch_descent())"
   ]
  },
  {
   "cell_type": "code",
   "execution_count": 224,
   "metadata": {},
   "outputs": [
    {
     "data": {
      "text/plain": [
       "[<matplotlib.lines.Line2D at 0x7fd5312f63a0>]"
      ]
     },
     "execution_count": 224,
     "metadata": {},
     "output_type": "execute_result"
    },
    {
     "data": {
      "image/png": "[encoded data removed]",
      "text/plain": [
       "<Figure size 432x288 with 1 Axes>"
      ]
     },
     "metadata": {
      "needs_background": "light"
     },
     "output_type": "display_data"
    }
   ],
   "source": [
    "plt.plot(cost_list)"
   ]
  },
  {
   "cell_type": "code",
   "execution_count": 226,
   "metadata": {},
   "outputs": [
    {
     "name": "stdout",
     "output_type": "stream",
     "text": [
      "the prediction is  [0.96953577]\n",
      "final output [array([0.81140032, 0.56024439, 0.14445846]), array([0.96953577])]\n",
      "final edge matrices [array([[-1.46396854, -1.46052472, -1.46088257, -1.46351209,  1.45403585,\n",
      "         1.46210451,  1.46388562,  1.45212703],\n",
      "       [-0.22884753, -0.22723708, -0.22195092, -0.22852798,  0.23119365,\n",
      "         0.22831369,  0.22795817,  0.22979209],\n",
      "       [ 1.77355236,  1.77727188,  1.77652394,  1.76748151, -1.77398369,\n",
      "        -1.76982129, -1.76823989, -1.77442064]]), array([[ 4.53895361,  0.67551382, -5.66230786]])]\n",
      "final biases [array([ 0.00700787,  0.01236186, -0.004322  ]), array([0.21687133])]\n"
     ]
    }
   ],
   "source": [
    "print(\"the prediction is \",classy_NN.predict([0,0,0,0,0,0,0,1]))\n",
    "print(\"final output\",classy_NN.layer_a)\n",
    "print(\"final edge matrices\",classy_NN.edge_matrices)\n",
    "print(\"final biases\",classy_NN.biases)"
   ]
  },
  {
   "cell_type": "markdown",
   "metadata": {},
   "source": [
    "Part 2 Question 3\n",
    "these chunks implement classification of rap1 sequences, "
   ]
  },
  {
   "cell_type": "code",
   "execution_count": 343,
   "metadata": {},
   "outputs": [],
   "source": [
    "setup = [68,20,10,1]\n",
    "alpha = 0.5\n",
    "lamba = 0 #0.1 is good\n",
    "rap1_NN = NN.NeuralNetwork(setup,NN.activation,alpha,lamba)"
   ]
  },
  {
   "cell_type": "code",
   "execution_count": 344,
   "metadata": {},
   "outputs": [],
   "source": [
    "rap1_pos_list = io.import_positives('data/rap1-lieb-positives.txt')\n",
    "genom_neg_list = io.import_negatives('data/yeast-upstream-1k-negative.fa',17)\n",
    "rap1_test_list = io.import_positives('data/rap1-lieb-test.txt')"
   ]
  },
  {
   "cell_type": "code",
   "execution_count": 345,
   "metadata": {},
   "outputs": [],
   "source": [
    "epoch_number = 2000 # the number of times through the whole data set\n",
    "batch_size = 20\n",
    "number_positives = len(rap1_pos_list)\n",
    "number_neg = number_positives*3\n",
    "genom_neg_short = []\n",
    "\n",
    "#create a negative set of the same size as positive input set randomly chosen from genome list\n",
    "for i in range(number_neg):\n",
    "    rand_index = int(numpy.floor(rand.random()*(len(genom_neg_list)-1)))\n",
    "    genom_neg_short.append(genom_neg_list[rand_index])\n",
    "\n",
    "    \n",
    "combo_training_list = rap1_pos_list + genom_neg_short\n",
    "combo_answer_list    = numpy.ones((number_positives))\n",
    "combo_answer_list    = numpy.concatenate((combo_answer_list,numpy.zeros((number_neg))))\n",
    "zipped_full_train    = list(zip(combo_training_list,combo_answer_list))\n",
    "rand.shuffle(zipped_full_train)\n",
    "shuffle_train_list, shuffle_answer_list = zip(*zipped_full_train)\n",
    "\n",
    "\n",
    "cost_list = rap1_NN.train(epoch_number,batch_size,shuffle_train_list,shuffle_answer_list)"
   ]
  },
  {
   "cell_type": "code",
   "execution_count": 346,
   "metadata": {},
   "outputs": [
    {
     "data": {
      "text/plain": [
       "[<matplotlib.lines.Line2D at 0x7fd4dfcf4400>]"
      ]
     },
     "execution_count": 346,
     "metadata": {},
     "output_type": "execute_result"
    },
    {
     "data": {
      "image/png": "[encoded data removed]",
      "text/plain": [
       "<Figure size 432x288 with 1 Axes>"
      ]
     },
     "metadata": {
      "needs_background": "light"
     },
     "output_type": "display_data"
    }
   ],
   "source": [
    "plt.plot(cost_list)"
   ]
  },
  {
   "cell_type": "code",
   "execution_count": 347,
   "metadata": {},
   "outputs": [
    {
     "name": "stdout",
     "output_type": "stream",
     "text": [
      "Prediction of positive test is  [0.97882514]\n"
     ]
    }
   ],
   "source": [
    "pos_test = io.one_hot_encode([rap1_pos_list[100]])\n",
    "pos_test = pos_test[0]\n",
    "print(\"Prediction of positive test is \",rap1_NN.predict(pos_test))\n"
   ]
  },
  {
   "cell_type": "code",
   "execution_count": 348,
   "metadata": {},
   "outputs": [
    {
     "name": "stdout",
     "output_type": "stream",
     "text": [
      "Prediction of negative test is  [0.00021061]\n"
     ]
    }
   ],
   "source": [
    "neg_test = io.one_hot_encode([genom_neg_list[100]])\n",
    "neg_test = neg_test[0]\n",
    "print(\"Prediction of negative test is \", rap1_NN.predict(neg_test))"
   ]
  },
  {
   "cell_type": "markdown",
   "metadata": {},
   "source": [
    "These chunks implement part 3 question 5"
   ]
  },
  {
   "cell_type": "code",
   "execution_count": null,
   "metadata": {},
   "outputs": [],
   "source": []
  },
  {
   "cell_type": "code",
   "execution_count": null,
   "metadata": {},
   "outputs": [],
   "source": []
  },
  {
   "cell_type": "code",
   "execution_count": 349,
   "metadata": {},
   "outputs": [],
   "source": [
    "test_scores = []\n",
    "for i in range(len(rap1_test_list)):\n",
    "    test_test = io.one_hot_encode([rap1_test_list[i]])\n",
    "    test_test = test_test[0]\n",
    "    test_scores.append(rap1_NN.predict(test_test)[0])"
   ]
  },
  {
   "cell_type": "code",
   "execution_count": 350,
   "metadata": {},
   "outputs": [
    {
     "data": {
      "image/png": "[encoded data removed]",
      "text/plain": [
       "<Figure size 432x288 with 1 Axes>"
      ]
     },
     "metadata": {
      "needs_background": "light"
     },
     "output_type": "display_data"
    }
   ],
   "source": [
    "num_bins = 40\n",
    "n, bins, patches = plt.hist(test_scores, num_bins, facecolor = 'blue', alpha = 0.5)\n",
    "plt.show()"
   ]
  },
  {
   "cell_type": "code",
   "execution_count": null,
   "metadata": {},
   "outputs": [],
   "source": []
  },
  {
   "cell_type": "code",
   "execution_count": null,
   "metadata": {},
   "outputs": [],
   "source": [
    "these chunks implement k-fold cross validation"
   ]
  },
  {
   "cell_type": "code",
   "execution_count": 353,
   "metadata": {},
   "outputs": [],
   "source": [
    "#instantiate the neural network\n",
    "setup = [68,20,10,1]\n",
    "alpha = 0.5\n",
    "lamba = 0 #0.1 is good\n",
    "batch_size = 20\n",
    "epoch_number = 700\n",
    "k = 2"
   ]
  },
  {
   "cell_type": "code",
   "execution_count": 354,
   "metadata": {},
   "outputs": [],
   "source": [
    "rap1_pos_list = io.import_positives('data/rap1-lieb-positives.txt')\n",
    "genom_neg_list = io.import_negatives('data/yeast-upstream-1k-negative.fa',17)\n",
    "rap1_test_list = io.import_positives('data/rap1-lieb-test.txt')"
   ]
  },
  {
   "cell_type": "code",
   "execution_count": 389,
   "metadata": {},
   "outputs": [],
   "source": [
    "number_positives = len(rap1_pos_list)\n",
    "number_neg = number_positives*3\n",
    "genom_neg_short = []\n",
    "\n",
    "#create a negative set of the same size as positive input set randomly chosen from genome list\n",
    "for i in range(number_neg):\n",
    "    rand_index = int(numpy.floor(rand.random()*(len(genom_neg_list)-1)))\n",
    "    genom_neg_short.append(genom_neg_list[rand_index])\n",
    "\n",
    "    \n",
    "combo_training_list = rap1_pos_list + genom_neg_short\n",
    "combo_answer_list    = numpy.ones((number_positives))\n",
    "combo_answer_list    = numpy.concatenate((combo_answer_list,numpy.zeros((number_neg))))\n",
    "zipped_full_train    = list(zip(combo_training_list,combo_answer_list))\n",
    "rand.shuffle(zipped_full_train)\n",
    "shuffle_train_list, shuffle_answer_list = zip(*zipped_full_train)"
   ]
  },
  {
   "cell_type": "code",
   "execution_count": 391,
   "metadata": {},
   "outputs": [
    {
     "name": "stdout",
     "output_type": "stream",
     "text": [
      "k size is 274\n",
      "8.101533386036888e-05\n",
      "0.0\n"
     ]
    },
    {
     "ename": "TypeError",
     "evalue": "ufunc 'bitwise_and' not supported for the input types, and the inputs could not be safely coerced to any supported types according to the casting rule ''safe''",
     "output_type": "error",
     "traceback": [
      "\u001b[0;31m---------------------------------------------------------------------------\u001b[0m",
      "\u001b[0;31mTypeError\u001b[0m                                 Traceback (most recent call last)",
      "\u001b[0;32m<ipython-input-391-d8f75f1ad76d>\u001b[0m in \u001b[0;36m<module>\u001b[0;34m\u001b[0m\n\u001b[0;32m----> 1\u001b[0;31m \u001b[0mroc_FPRs\u001b[0m\u001b[0;34m,\u001b[0m \u001b[0mroc_TPRs\u001b[0m  \u001b[0;34m=\u001b[0m \u001b[0mNN\u001b[0m\u001b[0;34m.\u001b[0m\u001b[0mk_fold_validation\u001b[0m\u001b[0;34m(\u001b[0m\u001b[0mshuffle_train_list\u001b[0m\u001b[0;34m,\u001b[0m\u001b[0mshuffle_answer_list\u001b[0m\u001b[0;34m,\u001b[0m\u001b[0mepoch_number\u001b[0m\u001b[0;34m,\u001b[0m\u001b[0mbatch_number\u001b[0m\u001b[0;34m,\u001b[0m\u001b[0msetup\u001b[0m\u001b[0;34m,\u001b[0m\u001b[0malpha\u001b[0m\u001b[0;34m,\u001b[0m\u001b[0mlamba\u001b[0m\u001b[0;34m,\u001b[0m\u001b[0mk\u001b[0m\u001b[0;34m)\u001b[0m\u001b[0;34m\u001b[0m\u001b[0;34m\u001b[0m\u001b[0m\n\u001b[0m",
      "\u001b[0;32m~/Downloads/Ansel_Lab_Things/algorithms/Project3/scripts/NN.py\u001b[0m in \u001b[0;36mk_fold_validation\u001b[0;34m(train_set, answer_set, epoch_number, batch_number, setup, alpha, lamba, k)\u001b[0m\n\u001b[1;32m    262\u001b[0m \u001b[0;34m\u001b[0m\u001b[0m\n\u001b[1;32m    263\u001b[0m             \u001b[0;32mfor\u001b[0m \u001b[0mn\u001b[0m \u001b[0;32min\u001b[0m \u001b[0mrange\u001b[0m\u001b[0;34m(\u001b[0m\u001b[0mlen\u001b[0m\u001b[0;34m(\u001b[0m\u001b[0mtemp_predict\u001b[0m\u001b[0;34m)\u001b[0m\u001b[0;34m)\u001b[0m\u001b[0;34m:\u001b[0m\u001b[0;34m\u001b[0m\u001b[0;34m\u001b[0m\u001b[0m\n\u001b[0;32m--> 264\u001b[0;31m                 \u001b[0;32mif\u001b[0m \u001b[0mtemp_predict\u001b[0m\u001b[0;34m[\u001b[0m\u001b[0mn\u001b[0m\u001b[0;34m]\u001b[0m \u001b[0;34m>\u001b[0m \u001b[0mcutoff\u001b[0m \u001b[0;34m&\u001b[0m \u001b[0mnp\u001b[0m\u001b[0;34m.\u001b[0m\u001b[0misclose\u001b[0m\u001b[0;34m(\u001b[0m\u001b[0mtemp_test_answer\u001b[0m\u001b[0;34m[\u001b[0m\u001b[0mn\u001b[0m\u001b[0;34m]\u001b[0m\u001b[0;34m,\u001b[0m\u001b[0;36m1\u001b[0m\u001b[0;34m)\u001b[0m\u001b[0;34m:\u001b[0m\u001b[0;34m\u001b[0m\u001b[0;34m\u001b[0m\u001b[0m\n\u001b[0m\u001b[1;32m    265\u001b[0m                     \u001b[0mtrue_positive\u001b[0m \u001b[0;34m+=\u001b[0m \u001b[0;36m1\u001b[0m\u001b[0;34m\u001b[0m\u001b[0;34m\u001b[0m\u001b[0m\n\u001b[1;32m    266\u001b[0m                 \u001b[0;32mif\u001b[0m \u001b[0mtemp_predict\u001b[0m\u001b[0;34m[\u001b[0m\u001b[0mn\u001b[0m\u001b[0;34m]\u001b[0m \u001b[0;34m<\u001b[0m \u001b[0mcutoff\u001b[0m \u001b[0;34m&\u001b[0m \u001b[0mnp\u001b[0m\u001b[0;34m.\u001b[0m\u001b[0misclose\u001b[0m\u001b[0;34m(\u001b[0m\u001b[0mtemp_test_answer\u001b[0m\u001b[0;34m[\u001b[0m\u001b[0mn\u001b[0m\u001b[0;34m]\u001b[0m\u001b[0;34m,\u001b[0m\u001b[0;36m1\u001b[0m\u001b[0;34m)\u001b[0m\u001b[0;34m:\u001b[0m\u001b[0;34m\u001b[0m\u001b[0;34m\u001b[0m\u001b[0m\n",
      "\u001b[0;31mTypeError\u001b[0m: ufunc 'bitwise_and' not supported for the input types, and the inputs could not be safely coerced to any supported types according to the casting rule ''safe''"
     ]
    }
   ],
   "source": [
    " roc_FPRs, roc_TPRs  = NN.k_fold_validation(shuffle_train_list,shuffle_answer_list,epoch_number,batch_number,setup,alpha,lamba,k)"
   ]
  },
  {
   "cell_type": "code",
   "execution_count": null,
   "metadata": {},
   "outputs": [],
   "source": [
    "plt.plot(roc_FPRs[0],roc_TPRs[0])"
   ]
  },
  {
   "cell_type": "code",
   "execution_count": 386,
   "metadata": {},
   "outputs": [
    {
     "data": {
      "text/plain": [
       "False"
      ]
     },
     "execution_count": 386,
     "metadata": {},
     "output_type": "execute_result"
    }
   ],
   "source": [
    "numpy.isclose(1,0.0)"
   ]
  },
  {
   "cell_type": "code",
   "execution_count": null,
   "metadata": {},
   "outputs": [],
   "source": []
  }
 ],
 "metadata": {
  "kernelspec": {
   "display_name": "Python 3",
   "language": "python",
   "name": "python3"
  },
  "language_info": {
   "codemirror_mode": {
    "name": "ipython",
    "version": 3
   },
   "file_extension": ".py",
   "mimetype": "text/x-python",
   "name": "python",
   "nbconvert_exporter": "python",
   "pygments_lexer": "ipython3",
   "version": "3.8.5"
  }
 },
 "nbformat": 4,
 "nbformat_minor": 4
}
