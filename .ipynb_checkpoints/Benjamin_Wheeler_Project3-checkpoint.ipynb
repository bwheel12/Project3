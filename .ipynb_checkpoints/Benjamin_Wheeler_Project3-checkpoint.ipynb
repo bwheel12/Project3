{
 "cells": [
  {
   "cell_type": "code",
   "execution_count": 935,
   "metadata": {},
   "outputs": [],
   "source": [
    "import importlib\n",
    "import numpy\n",
    "from scripts import NN\n",
    "import math as m\n",
    "from scripts import io\n",
    "importlib.reload(NN)\n",
    "importlib.reload(io)\n",
    "import random as rand\n",
    "import matplotlib.mlab as mlab\n",
    "import matplotlib.pyplot as plt\n"
   ]
  },
  {
   "cell_type": "markdown",
   "metadata": {},
   "source": [
    "## These chunks implement the auto encoder"
   ]
  },
  {
   "cell_type": "markdown",
   "metadata": {},
   "source": [
    "### Part 1\n"
   ]
  },
  {
   "cell_type": "code",
   "execution_count": 914,
   "metadata": {},
   "outputs": [],
   "source": [
    "#this instantiates the auto encoder\n",
    "setup = [8,3,8] #the network architecture [input,hidden,output]\n",
    "alpha = 0.5 #the learning rate\n",
    "lamba = 0 #weight decay is not used for autoencoder\n",
    "auto_NN = NN.NeuralNetwork(setup,NN.activation,alpha,lamba) #initialize the auto encoder"
   ]
  },
  {
   "cell_type": "code",
   "execution_count": 915,
   "metadata": {},
   "outputs": [],
   "source": [
    "#this trains the auto_encoder\n",
    "epoch_number = 100000\n",
    "cost_list = []\n",
    "input_size   = 8\n",
    "#this training regime updates the weights after each training example. It trains on an 8-element vector where each time a random single bit is flipped\n",
    "for j in range(epoch_number):\n",
    "    training_batch = numpy.zeros((input_size)) #first make an empty vector\n",
    "    rand_index = int(numpy.ceil(rand.random()*8)-1) #get a random 0 to 7 index\n",
    "    training_batch[rand_index] = 1 #flip the bit at that random index\n",
    "    training_batch = [training_batch] #not very clean but training expects a list of training examples\n",
    "    training_answer = training_batch #auto encoder uses the input as the \"answer\"\n",
    "    auto_NN.get_training_set(training_batch,training_answer) #import the training example and answer\n",
    "    cost_list.append(auto_NN.batch_descent()) #update the weights using gradient descent"
   ]
  },
  {
   "cell_type": "code",
   "execution_count": 916,
   "metadata": {},
   "outputs": [
    {
     "name": "stdout",
     "output_type": "stream",
     "text": [
      "the prediction for [1,0,0,0,0,0,0,0] is [9.72778216e-01 4.92914000e-05 2.51978563e-02 3.44102102e-06\n",
      " 1.28572793e-02 4.97671349e-10 2.97083137e-06 1.19855777e-02]\n",
      "the prediction for [0,1,0,0,0,0,0,0] is [1.10142246e-04 9.72255134e-01 1.60163923e-07 1.63983221e-05\n",
      " 1.69157340e-02 2.21088430e-02 2.17687709e-05 1.65190834e-02]\n",
      "the prediction for [0,0,1,0,0,0,0,0] is [4.85190459e-03 7.57594499e-10 9.62262412e-01 1.41031262e-02\n",
      " 5.36658985e-06 4.75595904e-07 1.33346002e-02 1.75712173e-06]\n",
      "the prediction for [0,0,0,1,0,0,0,0] is [3.71739265e-06 2.47150365e-06 2.32674176e-02 9.71941596e-01\n",
      " 1.94710845e-09 1.39841389e-02 4.58878365e-05 1.63420368e-02]\n",
      "the prediction for [0,0,0,0,1,0,0,0] is [2.29351709e-02 1.53264185e-02 9.76345794e-05 1.04971347e-08\n",
      " 9.75479166e-01 6.17618268e-06 1.95235293e-02 6.17677055e-07]\n",
      "the prediction for [0,0,0,0,0,1,0,0] is [2.15010256e-08 1.37945662e-02 1.48004695e-05 2.19034727e-02\n",
      " 2.25884703e-05 9.72248584e-01 2.15979137e-02 1.56426862e-05]\n",
      "the prediction for [0,0,0,0,0,0,1,0] is [2.27994326e-06 1.39317066e-06 2.42866745e-02 4.83644944e-05\n",
      " 1.46804755e-02 1.38050984e-02 9.72301721e-01 3.33264651e-10]\n",
      "the prediction for [0,0,0,0,0,0,0,1] is [2.37769916e-02 1.58634506e-02 1.31796331e-04 1.93586657e-02\n",
      " 1.85670167e-06 9.06720353e-06 2.35834223e-08 9.75197880e-01]\n"
     ]
    }
   ],
   "source": [
    "#this chunk displays that the autoencoder has the correct behavior\n",
    "print(\"the prediction for [1,0,0,0,0,0,0,0] is\", auto_NN.predict([1,0,0,0,0,0,0,0]))\n",
    "print(\"the prediction for [0,1,0,0,0,0,0,0] is\", auto_NN.predict([0,1,0,0,0,0,0,0]))\n",
    "print(\"the prediction for [0,0,1,0,0,0,0,0] is\", auto_NN.predict([0,0,1,0,0,0,0,0]))\n",
    "print(\"the prediction for [0,0,0,1,0,0,0,0] is\", auto_NN.predict([0,0,0,1,0,0,0,0]))\n",
    "print(\"the prediction for [0,0,0,0,1,0,0,0] is\", auto_NN.predict([0,0,0,0,1,0,0,0]))\n",
    "print(\"the prediction for [0,0,0,0,0,1,0,0] is\", auto_NN.predict([0,0,0,0,0,1,0,0]))\n",
    "print(\"the prediction for [0,0,0,0,0,0,1,0] is\", auto_NN.predict([0,0,0,0,0,0,1,0]))\n",
    "print(\"the prediction for [0,0,0,0,0,0,0,1] is\", auto_NN.predict([0,0,0,0,0,0,0,1]))"
   ]
  },
  {
   "cell_type": "code",
   "execution_count": 919,
   "metadata": {},
   "outputs": [
    {
     "data": {
      "text/plain": [
       "Text(0.5, 1.0, 'Cost at Each Output Node per Epoch In the Autoencoder')"
      ]
     },
     "execution_count": 919,
     "metadata": {},
     "output_type": "execute_result"
    },
    {
     "data": {
      "image/png": "[encoded data removed]",
      "text/plain": [
       "<Figure size 432x288 with 1 Axes>"
      ]
     },
     "metadata": {
      "needs_background": "light"
     },
     "output_type": "display_data"
    }
   ],
   "source": [
    "#plot the cost after each training iteration\n",
    "plt.plot(cost_list)\n",
    "plt.xlabel('Epoch Number')\n",
    "plt.ylabel('Output Node Cost')\n",
    "plt.title('Cost at Each Output Node per Epoch In the Autoencoder')"
   ]
  },
  {
   "cell_type": "markdown",
   "metadata": {},
   "source": [
    "these chunks implement a simple classifier very similar to auto encoder, but to classify based on position of the on-bit in input vector\n",
    "this is likely good for testing and is not needed in this notebook"
   ]
  },
  {
   "cell_type": "code",
   "execution_count": 222,
   "metadata": {},
   "outputs": [],
   "source": [
    "setup = [8,3,1]\n",
    "alpha = 0.5\n",
    "lamba = 0 #0.1 is good\n",
    "classy_NN = NN.NeuralNetwork(setup,NN.activation,alpha,lamba)"
   ]
  },
  {
   "cell_type": "code",
   "execution_count": 223,
   "metadata": {},
   "outputs": [],
   "source": [
    "epoch_number = 5000\n",
    "cost_list = []\n",
    "batch_number = 1\n",
    "input_size   = 8\n",
    "output_size  = 1\n",
    "for j in range(epoch_number):\n",
    "    training_list = []\n",
    "    answer_list   = []\n",
    "    for k in range(batch_size):\n",
    "        training_batch = numpy.zeros((input_size))\n",
    "        training_answer = numpy.zeros((output_size))\n",
    "        rand_index = int(numpy.ceil(rand.random()*8)-1)\n",
    "        training_batch[rand_index] = 1\n",
    "        training_list.append(training_batch)\n",
    "        if rand_index > 3: \n",
    "            training_answer[0] = 1\n",
    "        answer_list.append(training_answer)\n",
    "    classy_NN.get_training_set(training_list,answer_list)\n",
    "    cost_list.append(classy_NN.batch_descent())"
   ]
  },
  {
   "cell_type": "code",
   "execution_count": 224,
   "metadata": {},
   "outputs": [
    {
     "data": {
      "text/plain": [
       "[<matplotlib.lines.Line2D at 0x7fd5312f63a0>]"
      ]
     },
     "execution_count": 224,
     "metadata": {},
     "output_type": "execute_result"
    },
    {
     "data": {
      "image/png": "[encoded data removed]",
      "text/plain": [
       "<Figure size 432x288 with 1 Axes>"
      ]
     },
     "metadata": {
      "needs_background": "light"
     },
     "output_type": "display_data"
    }
   ],
   "source": [
    "plt.plot(cost_list)"
   ]
  },
  {
   "cell_type": "code",
   "execution_count": 226,
   "metadata": {},
   "outputs": [
    {
     "name": "stdout",
     "output_type": "stream",
     "text": [
      "the prediction is  [0.96953577]\n",
      "final output [array([0.81140032, 0.56024439, 0.14445846]), array([0.96953577])]\n",
      "final edge matrices [array([[-1.46396854, -1.46052472, -1.46088257, -1.46351209,  1.45403585,\n",
      "         1.46210451,  1.46388562,  1.45212703],\n",
      "       [-0.22884753, -0.22723708, -0.22195092, -0.22852798,  0.23119365,\n",
      "         0.22831369,  0.22795817,  0.22979209],\n",
      "       [ 1.77355236,  1.77727188,  1.77652394,  1.76748151, -1.77398369,\n",
      "        -1.76982129, -1.76823989, -1.77442064]]), array([[ 4.53895361,  0.67551382, -5.66230786]])]\n",
      "final biases [array([ 0.00700787,  0.01236186, -0.004322  ]), array([0.21687133])]\n"
     ]
    }
   ],
   "source": [
    "print(\"the prediction is \",classy_NN.predict([0,0,0,0,0,0,0,1]))\n",
    "print(\"final output\",classy_NN.layer_a)\n",
    "print(\"final edge matrices\",classy_NN.edge_matrices)\n",
    "print(\"final biases\",classy_NN.biases)"
   ]
  },
  {
   "cell_type": "markdown",
   "metadata": {},
   "source": [
    "## Part 2 \n",
    "## these chunks implement classification of rap1 sequences"
   ]
  },
  {
   "cell_type": "markdown",
   "metadata": {},
   "source": [
    "### Question 2\n",
    "My implementation encodes the DNA sequences using the function 'one_hot_encode' in the io.py file. My implementation does this one hot encoding in a very vanilla way. For a given k-mer, it creates a 4*k length vector where each indices 0 to 3 refer to position 0 in the k-mer, indices 4 to 7 refer to position 1 in the k-mer, etc. Within each of these sets of 4, position 0 is flipped if the k-mer position is A, 1 for T, 2 for G, 3 for C. This method basically makes the assumption that primary sequence is the only thing that matters and that each nucleotide has unique interaction with the protein. For example this method would not easily exchange purine bases. It also assumes that each sequence is in the same 'frame', if the motif were to appear in the proper order but later in the 17-mer this encoding would not capture that. In theory, a convolutional approach could account for this or expanding the encoding to shift the k-mer about. This second approach would make the input vector much larger and would add computational time. It would possibly also require more training for the model to converge. Given the results below and a visual inspection of the positive examples, they appear to be in the same frame. A final note of the implications of this, is that it is not necessarily forgiving of sequencer errors. While those should be rare, this strict encoding will penalize those."
   ]
  },
  {
   "cell_type": "markdown",
   "metadata": {},
   "source": [
    "### Question 3\n",
    "The following 2 chunks illustrate the general training scheme for the rap1 binding sites. The essential data preparation steps are contained in the scripts in the io.py, specifically these are 'import_positives', 'import_negatives', and 'shuffle_concat'. Import positives is very simple in that it expects a text file where each line is a k-mer and returns a list of those k-mers in ATCG encoding. Import negatives is slightly more complex in that it expects the 1000 bp of upstream genomic information and begins to reduce that information. In essence what it does is it find the start of each gene, it then selects a random row and starting index within that row to retrieve a k-mer. Ihe k-mer length is given by the user. It then returns a list of one of these randomly selected k-mers for each gene. I always call this function with the full 17 k-mer length, as I train on the full length k-mer. The next important step is contained within io.shuffle_concat. With this function I consider how to balance the positive to the negative examples. This is done using the passed integer parameter, which indicates how many fold more negative examples to include in the training set compared to the positive set. Below, I have chosen 3, so for every positive 17-mer given I will include 3 randomly selected negative 17-mers from the given positive and negative lists. This function is also useful in that it creates a paired answer list to provide for training the network and shuffles training examples so as the network is trained on small batches stepping through the training list in order it sees both positive and negative examples and no given example twice in the same epoch. For this step all k-mers are still in ATCG encoding. In the below training I have chosen 3 fold more negative examples, because I felt it cut down on the overweighting of negative data while also allowing the network to explore more of the larger negative space. One bullet in the assignment this does not address is the possibility for the negative set to contain positive motifs. However, if we assume transcription factors generally recognize short motifs in the ~5 bp range. Then there is a 1 in 1024 chance to select an exact 5-mer from a random list of 5-mers. My procedure is likely to be roughly analogous to this given the randomness in choosing k-mers. With a 3-fold larger negative set than positive set, I would expect less than 1 negative example per training set to match a positive site by chance. I don't expect 1 mis-labelled example to distrupt training to a large degree. \n",
    "\n",
    "The final bit of my training paradigm is actually contained in the 'train' function within the NeuralNetwork class. This is where the epoch number and batch size are set by the user. To use this function those parameters along with a paired training example list and answer list must be provided. The training list should be in ATCG encoding. This function then trains the neural network by first switching the encoding to the one hot encoding discribed above, it then does feedforward and backprop for the number of examples given in batch size before updating the weights. It does this until it has worked through the entire provided training list, this is 1 epoch. It repeats this process as many times as indicated by the epoch_number parameter. The updated weights are contained within the NeuralNetwork object and will automatically be used for prediction. Training also returns the cost per batch of samples trained."
   ]
  },
  {
   "cell_type": "markdown",
   "metadata": {},
   "source": [
    "### Question 4"
   ]
  },
  {
   "cell_type": "code",
   "execution_count": 928,
   "metadata": {},
   "outputs": [],
   "source": [
    "setup = [68,20,10,1] #network architechture 2 hidden layers trying to reduce the size of the previous layer by 1/2 to 1/3 each time\n",
    "alpha = 0.2 #learning rate\n",
    "lamba = 0 #no weight decay here, preliminary results show this makes convergence much more difficult\n",
    "rap1_NN = NN.NeuralNetwork(setup,NN.activation,alpha,lamba) #initialize the network"
   ]
  },
  {
   "cell_type": "code",
   "execution_count": 929,
   "metadata": {},
   "outputs": [],
   "source": [
    "rap1_pos_list = io.import_positives('data/rap1-lieb-positives.txt') #get the list of positive 17-mers\n",
    "genom_neg_list = io.import_negatives('data/yeast-upstream-1k-negative.fa',17) #get a list of randomly selected negative 17-mers 1 per gene\n",
    "rap1_test_list = io.import_positives('data/rap1-lieb-test.txt')# get the list of 17-mers to test"
   ]
  },
  {
   "cell_type": "code",
   "execution_count": 930,
   "metadata": {},
   "outputs": [],
   "source": [
    "epoch_number = 1000 # the number of times through the whole data set\n",
    "batch_size = 20 #number of examples to train on per batch\n",
    "shuffle_train_list, shuffle_answer_list = io.shuffle_concat(rap1_pos_list,genom_neg_list,3) #one hot encode training examples and shuffle the positive and \n",
    "#negative examples all into a single list\n",
    "\n",
    "\n",
    "cost_list = rap1_NN.train(epoch_number,batch_size,shuffle_train_list,shuffle_answer_list) #train the network and keep track of cost"
   ]
  },
  {
   "cell_type": "code",
   "execution_count": 933,
   "metadata": {},
   "outputs": [
    {
     "data": {
      "text/plain": [
       "Text(0.5, 1.0, 'Cost per Mini-Training Batch')"
      ]
     },
     "execution_count": 933,
     "metadata": {},
     "output_type": "execute_result"
    },
    {
     "data": {
      "image/png": "[encoded data removed]",
      "text/plain": [
       "<Figure size 432x288 with 1 Axes>"
      ]
     },
     "metadata": {
      "needs_background": "light"
     },
     "output_type": "display_data"
    }
   ],
   "source": [
    "#plot the cost per batch of training examples provided\n",
    "plt.plot(cost_list)\n",
    "plt.xlabel('Mini-Batch Number')\n",
    "plt.ylabel('Cost')\n",
    "plt.title('Cost per Mini-Training Batch')"
   ]
  },
  {
   "cell_type": "markdown",
   "metadata": {},
   "source": [
    "The chunks below answer question 4 part a. The plot above answers question 4 part b/c. The network architecture I chose was to have two hidden layers and a single out put layer. With the hidden layers I wanted to approximately halve the preceeding layer in terms of numbers of nodes. This actually does quite well. In terms of reducing cost/error the network has a pretty interesting behavior. I would describe the plot above like there are 3 regimes: no movement, rapid convergence, and refinement. The plot above has sections taht look almost solid, but that is due to the cost flucuating up and down with resolution not acheivable by the plot. I bascially chose a number of epochs to perform by selecting a number in which the cost has past the precipitous drop observed around 6000 minibatch. It is interesting in playing around with the epoch number a choice near but before convergance has basically 0 predictive power. Additionally, a choie after the large drop is extremely accurate as seen below in the k-fold validation. All in all it looks like with these parameteres the network performs quite well and as expected. In theory it could be memorizing answer, but that will be emperically tested below. "
   ]
  },
  {
   "cell_type": "code",
   "execution_count": 950,
   "metadata": {},
   "outputs": [
    {
     "name": "stdout",
     "output_type": "stream",
     "text": [
      "The ATCG encoding of the positive test is  GAACCCAAACATTATAG\n",
      "The one hot encoding of the positive test is  [1. 0. 0. 0. 1. 0. 0. 0. 0. 0. 0. 1. 0. 0. 0. 1. 0. 0. 0. 1. 1. 0. 0. 0.\n",
      " 1. 0. 0. 0. 1. 0. 0. 0. 0. 0. 0. 1. 1. 0. 0. 0. 0. 1. 0. 0. 0. 1. 0. 0.\n",
      " 1. 0. 0. 0. 0. 1. 0. 0. 1. 0. 0. 0. 0. 0. 1. 0. 0. 0. 1. 0.]\n",
      "Prediction of positive test is  [0.96537419]\n"
     ]
    }
   ],
   "source": [
    "#check a single positive input as sanity\n",
    "pos_test = io.one_hot_encode([rap1_pos_list[100]])\n",
    "pos_test = pos_test[0]\n",
    "print(\"The ATCG encoding of the positive test is \",rap1_pos_list[100])\n",
    "print(\"The one hot encoding of the positive test is \",pos_test)\n",
    "print(\"Prediction of positive test is \",rap1_NN.predict(pos_test))"
   ]
  },
  {
   "cell_type": "code",
   "execution_count": 951,
   "metadata": {},
   "outputs": [
    {
     "name": "stdout",
     "output_type": "stream",
     "text": [
      "The ATCG encoding of the positive test is  CGCATATCAGCCCCACT\n",
      "The one hot encoding of the positive test is  [0. 0. 1. 0. 0. 0. 0. 1. 1. 0. 0. 0. 0. 1. 0. 0. 1. 0. 0. 0. 0. 1. 0. 0.\n",
      " 0. 0. 0. 1. 1. 0. 0. 0. 0. 0. 1. 0. 0. 0. 0. 1. 0. 0. 0. 1. 0. 0. 0. 1.\n",
      " 0. 0. 0. 1. 1. 0. 0. 0. 0. 0. 0. 1. 0. 1. 0. 0. 0. 0. 0. 1.]\n",
      "Prediction of negative test is  [0.00148877]\n"
     ]
    }
   ],
   "source": [
    "#check a single negative input as sanity\n",
    "neg_test = io.one_hot_encode([genom_neg_list[100]])\n",
    "neg_test = neg_test[0]\n",
    "print(\"The ATCG encoding of the positive test is \",genom_neg_list[100])\n",
    "print(\"The one hot encoding of the positive test is \",neg_test)\n",
    "print(\"Prediction of negative test is \", rap1_NN.predict(neg_test))"
   ]
  },
  {
   "cell_type": "markdown",
   "metadata": {},
   "source": [
    "## These chunks implement k-fold cross validation"
   ]
  },
  {
   "cell_type": "markdown",
   "metadata": {},
   "source": [
    "## Part 3\n",
    "### question 5"
   ]
  },
  {
   "cell_type": "markdown",
   "metadata": {},
   "source": [
    "To validate the above network, k-fold validation is very useful. In this validation, I will break the training set into k-chunks. I will validate the network k-times by each time selecting a chunk to be the validation set. I will then train the network on all the other sets. After this training I will use the validation set to create a ROC curve. For each validation I will calculate the auROC as a measure of the performance. This will result in k auROCs which I can average to give a sense how well the network validated on the whole. Functionally this is implemented by processing the training sets just as above. However, k-fold validation is actually handled by 'k_fold_validation' a function in NN.py. This function takes the shuffled training list and splits it into k-chunks. It the does the above descirbed validation. It then returns two nested lists of True Positive Rates and False Positive Rates for each validation iteration. These can then be plotted and the auROC can be determined using the 'roc_auc_list' function in NN.py. In the 'literature' a default value for k is often chosen to be 10. For this particular use case, however, that seemd to me innappropriate. That would mean a single chunk would only contain 14 positive examples, which is not that statistically powerful. Instead, I have chosen to use a k of 4. I felt that this provided the chance to multiple validations per training set, but retain a decently sized number of positive examples in both the training and validation chunks. I did test it with k=10 and the results are very similar to k=4. Only k=4 has been kept here, due to the preceding reasoning."
   ]
  },
  {
   "cell_type": "code",
   "execution_count": 953,
   "metadata": {},
   "outputs": [],
   "source": [
    "#instantiate the neural network using the same parameters as above\n",
    "setup = [68,20,10,1]\n",
    "alpha = 0.2\n",
    "lamba = 0 \n",
    "batch_size = 20\n",
    "epoch_number = 1000\n",
    "k = 4"
   ]
  },
  {
   "cell_type": "code",
   "execution_count": 954,
   "metadata": {},
   "outputs": [],
   "source": [
    "rap1_pos_list = io.import_positives('data/rap1-lieb-positives.txt') #as before get the positive examples, not needed here but for clarity it is kept\n",
    "genom_neg_list = io.import_negatives('data/yeast-upstream-1k-negative.fa',17)#as before get the negative examples, not needed here but for clarity it is kept"
   ]
  },
  {
   "cell_type": "code",
   "execution_count": 955,
   "metadata": {},
   "outputs": [],
   "source": [
    "shuffle_train_list, shuffle_answer_list = io.shuffle_concat(rap1_pos_list,genom_neg_list,3)#as before shuffle and reduce negative examples,\n",
    "#not needed here but for clarity it is kept"
   ]
  },
  {
   "cell_type": "code",
   "execution_count": 956,
   "metadata": {},
   "outputs": [
    {
     "name": "stdout",
     "output_type": "stream",
     "text": [
      "k size is 137\r"
     ]
    }
   ],
   "source": [
    " roc_FPRs, roc_TPRs  = NN.k_fold_validation(shuffle_train_list,shuffle_answer_list,epoch_number,batch_number,setup,alpha,lamba,k) #perform the validation"
   ]
  },
  {
   "cell_type": "code",
   "execution_count": 957,
   "metadata": {},
   "outputs": [
    {
     "data": {
      "text/plain": [
       "Text(0.5, 1.0, 'ROC Curve for the First Validation Iteration')"
      ]
     },
     "execution_count": 957,
     "metadata": {},
     "output_type": "execute_result"
    },
    {
     "data": {
      "image/png": "[encoded data removed]",
      "text/plain": [
       "<Figure size 432x288 with 1 Axes>"
      ]
     },
     "metadata": {
      "needs_background": "light"
     },
     "output_type": "display_data"
    }
   ],
   "source": [
    "plt.plot(roc_FPRs[0],roc_TPRs[0])\n",
    "plt.xlabel('False Positive Rate')\n",
    "plt.ylabel('True Positive Rate')\n",
    "plt.title('ROC Curve for the First Validation Iteration')"
   ]
  },
  {
   "cell_type": "code",
   "execution_count": 958,
   "metadata": {},
   "outputs": [
    {
     "data": {
      "text/plain": [
       "Text(0.5, 1.0, 'ROC Curve for the Second Validation Iteration')"
      ]
     },
     "execution_count": 958,
     "metadata": {},
     "output_type": "execute_result"
    },
    {
     "data": {
      "image/png": "[encoded data removed]",
      "text/plain": [
       "<Figure size 432x288 with 1 Axes>"
      ]
     },
     "metadata": {
      "needs_background": "light"
     },
     "output_type": "display_data"
    }
   ],
   "source": [
    "plt.plot(roc_FPRs[1],roc_TPRs[1])\n",
    "plt.xlabel('False Positive Rate')\n",
    "plt.ylabel('True Positive Rate')\n",
    "plt.title('ROC Curve for the Second Validation Iteration')"
   ]
  },
  {
   "cell_type": "code",
   "execution_count": 959,
   "metadata": {},
   "outputs": [
    {
     "data": {
      "text/plain": [
       "Text(0.5, 1.0, 'ROC Curve for the Third Validation Iteration')"
      ]
     },
     "execution_count": 959,
     "metadata": {},
     "output_type": "execute_result"
    },
    {
     "data": {
      "image/png": "[encoded data removed]",
      "text/plain": [
       "<Figure size 432x288 with 1 Axes>"
      ]
     },
     "metadata": {
      "needs_background": "light"
     },
     "output_type": "display_data"
    }
   ],
   "source": [
    "plt.plot(roc_FPRs[2],roc_TPRs[2])\n",
    "plt.xlabel('False Positive Rate')\n",
    "plt.ylabel('True Positive Rate')\n",
    "plt.title('ROC Curve for the Third Validation Iteration')"
   ]
  },
  {
   "cell_type": "code",
   "execution_count": 960,
   "metadata": {},
   "outputs": [
    {
     "data": {
      "text/plain": [
       "Text(0.5, 1.0, 'ROC Curve for the Fourth Validation Iteration')"
      ]
     },
     "execution_count": 960,
     "metadata": {},
     "output_type": "execute_result"
    },
    {
     "data": {
      "image/png": "[encoded data removed]",
      "text/plain": [
       "<Figure size 432x288 with 1 Axes>"
      ]
     },
     "metadata": {
      "needs_background": "light"
     },
     "output_type": "display_data"
    }
   ],
   "source": [
    "plt.plot(roc_FPRs[3],roc_TPRs[3])\n",
    "plt.xlabel('False Positive Rate')\n",
    "plt.ylabel('True Positive Rate')\n",
    "plt.title('ROC Curve for the Fourth Validation Iteration')"
   ]
  },
  {
   "cell_type": "code",
   "execution_count": 963,
   "metadata": {},
   "outputs": [
    {
     "name": "stdout",
     "output_type": "stream",
     "text": [
      "For K-fold validation the average auROC is  1.0\n"
     ]
    }
   ],
   "source": [
    "roc_AUCs = NN.roc_auc_list(roc_TPRs,roc_FPRs)\n",
    "print(\"For K-fold validation the average auROC is \", numpy.mean(roc_AUCs))"
   ]
  },
  {
   "cell_type": "code",
   "execution_count": 679,
   "metadata": {},
   "outputs": [
    {
     "data": {
      "text/plain": [
       "[1.0, 0.9999999999999999, 1.0, 1.0]"
      ]
     },
     "execution_count": 679,
     "metadata": {},
     "output_type": "execute_result"
    }
   ],
   "source": []
  },
  {
   "cell_type": "markdown",
   "metadata": {},
   "source": [
    "## These chunks implement a genetic optimization algorithm for a network with a define number of hidden layers and given input and output architecture"
   ]
  },
  {
   "cell_type": "code",
   "execution_count": 709,
   "metadata": {},
   "outputs": [],
   "source": [
    "import importlib\n",
    "import numpy\n",
    "from scripts import NN\n",
    "import math as m\n",
    "from scripts import io\n",
    "importlib.reload(NN)\n",
    "importlib.reload(io)\n",
    "import random as rand\n",
    "import matplotlib.mlab as mlab\n",
    "import matplotlib.pyplot as plt\n"
   ]
  },
  {
   "cell_type": "code",
   "execution_count": 710,
   "metadata": {},
   "outputs": [],
   "source": [
    "#initialize the centers which will be used to creat generation 0\n",
    "centers = [20,10,0.15,0.0000001,150,20]"
   ]
  },
  {
   "cell_type": "code",
   "execution_count": 714,
   "metadata": {},
   "outputs": [],
   "source": [
    "generation_num = 20\n",
    "pop_num = 100\n",
    "cross_rate = 0.2\n",
    "mutation_rate = 0.05"
   ]
  },
  {
   "cell_type": "code",
   "execution_count": 715,
   "metadata": {},
   "outputs": [],
   "source": [
    "rap1_pos_list = io.import_positives('data/rap1-lieb-positives.txt')\n",
    "genom_neg_list = io.import_negatives('data/yeast-upstream-1k-negative.fa',17)\n",
    "rap1_test_list = io.import_positives('data/rap1-lieb-test.txt')\n",
    "shuffle_train_list, shuffle_answer_list = io.shuffle_concat(rap1_pos_list,genom_neg_list,3)"
   ]
  },
  {
   "cell_type": "code",
   "execution_count": 716,
   "metadata": {},
   "outputs": [
    {
     "name": "stdout",
     "output_type": "stream",
     "text": [
      "1 evolutions have been performed\n",
      "2 evolutions have been performed\n",
      "3 evolutions have been performed\n",
      "4 evolutions have been performed\n",
      "5 evolutions have been performed\n",
      "6 evolutions have been performed\n",
      "7 evolutions have been performed\n",
      "8 evolutions have been performed\n",
      "9 evolutions have been performed\n",
      "10 evolutions have been performed\n",
      "11 evolutions have been performed\n",
      "12 evolutions have been performed\n",
      "13 evolutions have been performed\n",
      "14 evolutions have been performed\n",
      "15 evolutions have been performed\n",
      "16 evolutions have been performed\n",
      "17 evolutions have been performed\n",
      "18 evolutions have been performed\n",
      "19 evolutions have been performed\n",
      "The generation scores are [[0.9974874371859297, 0.5, 0.5, 0.5, 0.5, 0.5, 0.5, 0.5, 0.5, 0.5, 0.7137096774193549, 0.5, 0.9974874371859297, 0.5, 0.5, 0.5, 0.5, 0.7379032258064516, 0.5, 0.5, 0.5, 0.5, 0.5, 0.5, 0.5, 0.5, 0.5, 0.5, 0.5, 0.5, 0.5, 0.5, 0.5, 0.5, 0.5, 0.5, 0.5, 0.5, 0.5, 0.5, 0.5, 0.5, 0.5, 0.5, 0.5, 0.9987437185929647, 0.5, 0.5, 0.5, 0.5, 0.5, 0.9996984924623116, 0.5, 0.5, 0.5, 0.5, 0.5, 0.9999329983249582, 0.5, 0.5, 0.5, 0.5, 0.5, 0.5, 0.9995979899497489, 0.5, 0.5, 0.5, 0.5, 0.5, 0.5, 0.5, 1.0, 0.9999832495812395, 0.5, 0.5, 0.5, 0.5, 0.5, 0.5, 0.9999832495812395, 0.5, 0.5, 0.5, 0.5, 0.5, 0.5, 0.5, 0.5, 0.5, 0.5, 0.5, 0.9987604690117253, 0.5, 0.5, 0.5, 0.9974874371859297, 0.5, 0.5, 0.5], [0.9999497487437186, 0.9974874371859297, 0.5, 0.5, 0.9974874371859297, 0.9974874371859297, 0.5, 0.5, 0.5, 0.5, 0.5, 0.5, 0.9996984924623116, 0.9974874371859297, 0.5, 0.9974874371859297, 0.5, 0.5, 0.9974874371859297, 0.9999497487437186, 0.5, 0.5, 0.9974874371859297, 0.5, 0.9996147403685092, 0.5, 0.5, 0.5, 0.5, 0.5, 0.5, 0.5, 0.5, 0.5, 0.5, 0.9974874371859297, 0.5, 0.5, 0.5, 0.5, 0.9999832495812395, 0.5, 0.5, 0.5, 0.5, 0.5, 0.999966499162479, 0.5, 0.5, 0.5, 0.5, 0.5, 0.5, 0.5, 0.9996314907872696, 0.5, 0.5, 0.5, 0.9974874371859297, 0.5, 0.5, 0.5, 0.5, 0.5, 0.5, 0.5, 0.5, 0.5, 0.5, 0.5, 0.5, 0.9999162479061978, 0.5, 0.5, 0.5, 0.5, 0.5, 0.5, 0.5, 0.5, 0.5, 0.5, 0.5, 0.5, 0.5, 0.5, 0.5, 0.5, 0.5, 0.5, 0.5, 0.5, 0.5, 0.9996817420435511, 0.5, 0.5, 0.5, 0.999966499162479, 0.9996793822345176, 0.5], [0.5, 0.5, 0.5, 0.5, 0.5, 0.5, 0.5, 0.5, 0.5, 0.5, 1.0, 0.75, 0.9997487437185929, 0.9995142378559465, 0.9995812395309883, 0.5, 0.5, 0.7484520715486929, 0.5, 0.5, 0.5, 0.5, 0.5, 1.0, 0.5, 0.5, 0.5, 0.5, 0.5, 1.0, 0.9992797319932999, 0.5, 0.5, 0.5, 0.5, 0.5, 0.5, 0.5, 0.772471982549449, 1.0, 0.5, 0.5, 0.5, 0.5, 0.5, 1.0, 0.5, 0.9974874371859297, 0.5, 0.5, 0.5, 0.5, 0.5, 0.5, 0.5, 0.5, 0.5, 0.5, 0.5, 0.5, 0.9999832495812397, 0.5, 0.5, 0.5, 0.5, 0.5, 0.5, 0.5, 0.5, 0.5, 0.5, 0.5, 0.7298387096774194, 0.5, 0.5, 0.5, 0.5, 0.5, 0.5, 0.5, 0.5, 0.5, 0.5, 0.5, 1.0, 0.5, 0.5, 1.0, 0.5, 0.9974874371859297, 0.5, 0.5, 0.5, 0.5, 0.5, 0.5, 0.5, 0.5, 1.0, 0.5], [0.5, 0.5, 0.5, 0.5, 0.9999329983249581, 0.9998324958123953, 0.5, 0.5, 0.5, 0.5, 0.5, 0.5, 0.5, 0.5, 0.5, 0.5, 1.0, 0.5, 0.9974874371859297, 0.5, 0.5, 0.5, 0.5, 0.5, 0.5, 0.5, 0.5, 0.5, 0.5, 0.5, 0.5, 0.5, 0.5, 0.5, 0.5, 0.5, 0.5, 0.5, 0.5, 0.9974874371859297, 0.5, 0.5, 0.5, 0.5403225806451613, 0.5, 0.9998324958123954, 0.5, 0.5, 0.5, 0.5, 0.5, 0.5, 0.5, 0.5, 0.5, 0.5, 0.9998827470686767, 1.0, 0.5, 0.5, 0.5, 0.5, 0.5, 0.5, 0.5, 0.5, 0.9974874371859297, 0.5, 0.5, 0.9974874371859297, 0.5, 0.5, 0.5, 0.5, 0.9993634840871023, 0.9992294807370186, 0.5, 0.5, 0.5, 0.5, 0.5, 0.9974874371859297, 0.5, 0.5, 0.5, 0.5, 1.0, 0.5, 0.5, 0.9998827470686767, 0.5, 0.5, 1.0, 0.5, 0.5, 0.5, 0.5, 0.5, 0.5, 0.5], [0.7633333333333333, 0.5, 0.5, 0.5, 0.5, 0.5, 0.5, 0.5, 0.5, 0.5, 0.592741935483871, 1.0, 0.5, 0.5, 0.5, 0.5, 0.709516129032258, 0.5, 0.5, 0.5, 0.5, 0.5, 0.5, 0.5, 1.0, 0.5, 0.5, 0.5, 0.5, 1.0, 0.5, 1.0, 0.5, 0.5, 0.5, 0.5, 0.5, 0.5, 0.75, 0.5, 0.5, 0.5, 0.5, 0.75, 0.5, 0.5, 0.5, 1.0, 0.5, 0.5, 1.0, 0.5, 0.5, 0.5, 1.0, 0.5, 0.5, 0.5, 0.5, 0.5, 0.999966499162479, 0.5, 0.5, 0.5, 0.5, 0.5, 0.5, 0.5, 0.75, 0.5, 0.5, 0.5, 0.5, 0.5, 0.5, 0.5, 0.5, 0.5, 0.5, 0.5, 0.7464454976303317, 0.5, 0.5, 0.5, 0.5, 0.5, 0.740521327014218, 1.0, 0.5, 0.5, 0.5, 0.5, 0.5, 0.5, 1.0, 0.5, 0.5, 0.5, 0.5, 0.5], [0.5, 0.5, 0.5, 0.5, 0.5, 0.9995477386934674, 0.5, 0.5, 0.5, 0.5, 0.5, 0.5, 0.5, 0.5, 0.5, 0.9999162479061976, 0.5, 0.5, 0.5, 0.5, 0.5, 1.0, 0.5, 1.0, 0.5, 0.9974874371859297, 0.5, 0.5, 0.5, 0.5, 0.5, 0.5, 1.0, 0.5, 0.5, 0.9998659966499162, 0.9998659966499162, 0.9974874371859297, 0.5, 0.5, 0.5, 0.5, 1.0, 0.5, 0.5, 0.5, 0.5, 0.9998827470686766, 0.5, 0.5, 0.5, 0.5, 0.7500000000000001, 0.9974874371859297, 0.9974874371859297, 0.5, 0.5, 0.5, 0.5, 0.5, 0.5, 0.5, 0.5, 0.5, 0.9974874371859297, 0.9974874371859297, 0.5, 0.5, 0.9974874371859297, 0.9974874371859297, 0.9498827470686767, 0.5, 0.5, 0.5, 0.5, 0.5, 0.9974874371859297, 1.0, 0.5, 0.5, 0.5, 0.9974874371859297, 0.9974874371859297, 0.5, 0.5, 0.5, 0.5, 0.9974874371859297, 0.9999329983249581, 0.5, 0.5, 0.5, 0.5, 0.5, 0.5, 0.5, 1.0, 0.5, 0.5, 0.5120967741935484], [0.5, 0.5, 0.5, 0.9974874371859297, 0.5, 0.5, 0.5, 0.5, 0.9974874371859297, 1.0, 1.0, 0.5, 0.5, 0.9974874371859297, 0.5, 0.5, 0.5, 0.5, 0.5, 0.5, 0.5, 0.5, 0.9974874371859297, 0.9974874371859297, 0.5, 0.5, 0.5, 0.5, 0.5, 0.9974874371859297, 0.5, 0.5, 0.5, 0.9974874371859297, 0.5, 0.5, 0.5, 0.5, 0.5, 0.5, 0.9999497487437186, 0.5, 0.5, 0.7379032258064516, 0.5, 0.5, 0.5, 0.9974874371859297, 0.5, 0.5, 0.5, 0.740521327014218, 0.5, 0.9999832495812395, 0.5, 0.5, 0.9974874371859297, 0.5, 0.5, 0.5, 0.5, 0.5, 0.7417061611374407, 0.5, 0.5, 0.5, 0.5, 0.5, 0.5, 0.5, 0.5, 0.5, 0.5, 0.5, 0.5, 0.5, 1.0, 0.9999497487437186, 0.5, 0.5, 0.5, 0.5, 0.5, 0.5, 0.5, 0.5, 0.5, 0.5, 0.5, 0.5, 0.5, 0.5, 0.5, 0.5, 0.5, 0.5, 0.5, 0.9974874371859297, 0.5, 0.5], [0.5, 1.0, 0.5, 0.5, 0.5, 0.5, 0.5, 0.5, 0.5, 0.5, 0.5, 0.5, 0.5, 0.5, 0.75, 0.5, 0.5, 0.5, 0.7500000000000001, 0.5, 0.5, 0.5, 0.5, 0.5, 0.5, 0.7512562814070352, 0.5, 0.5, 0.5, 0.5, 0.5, 0.5, 0.9003015075376883, 0.5, 0.5, 0.5, 0.5, 0.5, 0.5, 0.5, 0.9987772194304858, 0.5, 0.75, 0.5, 0.5, 0.5, 0.5, 1.0, 0.5, 0.5, 0.75, 0.5, 0.5180904522613066, 0.5, 0.75, 0.5, 0.75, 0.5, 0.5, 0.5, 0.5, 0.5, 0.5, 0.5, 1.0, 0.5, 0.5, 0.9034170854271357, 0.5, 0.5, 0.5, 0.5, 0.5, 1.0, 0.5, 0.5, 0.5, 0.5, 0.5, 0.5, 0.5, 0.5, 0.5, 0.75, 0.5, 0.5, 0.5, 0.5, 0.5, 0.5, 0.6370967741935484, 0.5, 0.5, 0.5, 0.5, 0.9998157453936349, 0.9987437185929648, 0.5, 0.5, 1.0], [0.5, 0.5, 0.5, 0.9974874371859297, 0.9999832495812395, 0.5, 0.5, 0.5, 0.5, 0.5, 1.0, 0.9974874371859297, 0.9974874371859297, 0.5, 0.5, 0.5, 0.5, 0.9999832495812395, 0.5, 0.5, 0.9999832495812395, 0.5, 0.5, 0.5, 0.999748743718593, 0.5, 0.5, 0.5, 0.9998659966499162, 0.5, 0.5, 0.5, 0.5, 0.5, 0.5, 0.5, 0.5, 0.9998324958123953, 0.5, 0.5, 0.5, 0.9974874371859297, 0.5, 0.5, 0.5, 0.5, 0.5, 0.5, 0.5, 0.5, 0.5, 0.5, 0.9974874371859298, 0.9974874371859297, 0.9974874371859297, 0.5, 1.0, 0.5, 0.9974874371859297, 0.5, 0.9974874371859297, 0.5, 1.0, 0.5, 0.5, 0.9999497487437186, 0.5, 0.5, 0.5, 0.999748743718593, 0.5, 0.5, 0.9999832495812395, 0.5, 0.5, 0.5, 0.5, 0.5, 0.5, 0.5, 0.5, 0.5, 0.5, 0.5, 0.9974874371859297, 0.5, 0.5, 0.5, 0.5, 0.5, 0.5, 0.5, 0.5, 0.5, 0.5, 0.5, 0.5, 0.5, 0.5, 0.9974874371859297], [0.5, 0.5, 0.5, 0.5, 0.5, 0.5, 1.0, 0.9974874371859298, 0.5, 0.5, 0.5, 0.5, 0.9974874371859298, 0.9974874371859297, 0.5, 0.5, 0.5, 1.0, 0.5, 1.0, 0.5, 0.5, 0.9974874371859297, 0.5, 0.9999832495812395, 0.5, 0.5, 1.0, 0.9974874371859297, 1.0, 0.9974874371859297, 0.5, 1.0, 0.5, 1.0, 1.0, 0.5, 0.5, 0.5, 0.5, 0.5, 0.5, 0.5, 0.5, 0.9974874371859297, 0.5, 0.5, 0.5, 0.5, 0.5, 0.5, 0.5, 0.9974874371859298, 0.5, 0.5, 0.9998659966499163, 0.5, 0.5, 0.5, 0.5, 0.5, 0.9974874371859297, 1.0, 0.5, 0.5, 0.5, 0.5, 1.0, 0.5, 0.5, 0.5, 0.5, 0.9974874371859297, 0.9974874371859297, 0.5, 0.5, 0.9999832495812395, 0.5, 0.5, 0.5, 0.5, 1.0, 0.5, 0.5, 0.5, 0.9974874371859297, 0.5, 0.9974874371859298, 0.5, 0.9974874371859297, 0.5, 0.5, 0.5, 0.5, 0.5, 0.5, 0.5, 0.5, 0.5, 0.5], [0.5, 0.5, 0.5, 0.5, 0.7476303317535545, 0.5, 0.5, 0.9999329983249581, 0.5, 0.5, 0.5, 0.5, 0.5, 0.5, 0.7428909952606635, 0.7417061611374407, 0.7379032258064516, 0.5, 0.5, 0.5, 0.5, 0.5, 0.5, 0.5, 0.5, 0.5, 0.5, 0.740521327014218, 0.9974874371859297, 0.5, 0.5, 0.5, 0.7393364928909953, 0.9974874371859297, 0.5, 0.5, 0.5, 0.5, 0.5, 0.7381516587677726, 0.5, 0.5, 0.5, 0.5, 0.5, 0.5, 0.5, 0.5, 0.740521327014218, 0.5, 0.7345971563981043, 1.0, 0.7345971563981043, 0.5, 0.7417061611374407, 0.5, 0.5, 0.5, 0.5, 0.5, 0.5, 0.9974874371859297, 0.5, 0.740521327014218, 0.9974874371859297, 0.5, 0.5, 0.5, 0.9974874371859297, 0.5, 0.5, 0.5, 0.5, 0.7440758293838863, 0.5, 0.5, 0.9974874371859297, 0.5, 0.9974874371859297, 0.7369668246445498, 0.5, 0.5, 0.75, 0.5, 0.7417061611374407, 0.5, 0.5, 0.5, 0.75, 0.5, 0.5, 0.5, 0.9974874371859297, 0.5, 0.5, 0.5, 0.5, 0.5, 0.5, 0.5], [0.5, 0.5, 0.5, 0.5, 0.5, 1.0, 0.5, 0.5, 0.5, 0.9999832495812396, 0.5, 0.5, 0.5, 0.5, 0.5, 0.5, 0.5, 0.5, 0.5, 0.5, 0.5, 0.5, 0.5, 0.5, 0.5, 1.0, 0.5, 0.5, 0.5, 0.9974874371859297, 0.5, 0.5, 0.5, 0.5, 0.9974874371859297, 0.5, 0.5, 0.5, 0.5, 0.5, 0.9974874371859297, 0.9974874371859297, 0.5, 0.5, 0.5, 0.5, 0.5, 0.5, 0.5, 0.5, 0.5, 0.5, 0.5, 0.5, 0.5, 0.5, 0.5, 0.5, 0.5, 0.5, 0.5, 0.5, 0.5, 0.5, 0.5, 0.5, 0.5, 0.5, 0.5, 0.5, 0.5, 0.5, 0.5, 0.5, 0.5, 0.5, 0.5, 0.9974874371859297, 0.5, 0.5, 0.5, 0.5, 0.5, 0.5, 0.5, 0.5, 0.5, 0.5, 0.5, 0.5, 0.5, 0.5, 0.5, 0.5, 0.5, 0.5, 0.5, 0.9974874371859297, 0.5, 0.5], [0.5, 0.5, 0.5, 0.9996147403685093, 0.5, 0.5, 0.5, 0.5, 0.5, 0.5, 0.5, 0.9997319932998325, 0.5, 0.5, 0.5, 0.5, 0.9995812395309883, 0.5, 0.5, 0.5, 0.9996314907872696, 0.5, 0.5, 0.9974874371859297, 0.5, 0.5, 0.5, 0.5, 0.5, 0.5, 0.5, 0.5, 0.5, 0.5, 0.5, 0.5, 0.5, 0.999715242881072, 0.5, 0.5, 0.5, 0.999748743718593, 0.5, 0.5, 0.5, 0.5, 0.5, 0.9996649916247906, 0.5, 0.9974874371859298, 0.5, 0.5, 0.5, 0.5, 0.5, 0.5, 0.5, 0.999530988274707, 0.5, 0.5, 0.5, 0.5, 0.5, 0.5, 0.5, 0.5, 0.5, 0.5, 0.5, 0.5, 0.5, 0.5, 0.5, 0.5, 0.5, 0.5, 0.5, 0.5, 0.5, 0.999748743718593, 0.5, 0.5, 0.5, 0.5, 0.5, 0.5, 0.5, 0.5, 0.5, 0.5, 0.5, 0.5, 0.5, 0.5, 0.5, 0.5, 0.5, 0.5, 0.5, 0.5], [0.5, 0.5, 0.5, 0.5, 0.5, 0.5, 0.9996649916247906, 0.5, 0.5, 0.5, 0.5, 0.5, 0.5, 0.9974874371859297, 0.9996147403685092, 0.9974874371859297, 0.5, 0.9996817420435511, 0.5, 0.5, 0.9996649916247906, 0.9995979899497487, 0.5, 0.5, 0.5, 0.5, 0.5, 0.5, 0.5, 0.9996817420435511, 0.9996649916247906, 0.5, 0.5, 0.5, 0.5, 0.5, 0.5, 0.5, 0.5, 0.5, 0.9997319932998325, 0.5, 0.5, 0.5, 0.9996984924623116, 0.5, 0.5, 0.5, 0.5, 0.9996649916247906, 0.5, 0.5, 0.5, 0.5, 0.5, 0.9996147403685092, 0.5, 0.5, 0.9996649916247906, 0.5, 0.5, 0.5, 0.5, 0.5, 0.5, 0.9974874371859297, 0.9996649916247906, 0.9996817420435511, 0.5, 0.5, 0.5, 0.5, 0.999715242881072, 0.999715242881072, 0.9974874371859297, 0.5, 0.9974874371859297, 0.5, 0.5, 0.5, 0.9974874371859297, 0.9996147403685092, 0.9974874371859297, 0.5, 0.5, 1.0, 0.5, 0.5, 0.9974874371859297, 0.999715242881072, 0.5, 0.9996817420435511, 0.9996817420435511, 0.5, 0.5, 0.5, 0.5, 0.5, 0.5, 0.5], [0.5, 0.5, 0.5, 0.75, 0.5, 0.9999832495812395, 0.5, 0.5, 0.5, 0.5, 0.5, 0.5, 1.0, 0.5, 0.5, 0.5, 0.5, 0.5, 0.9998659966499162, 0.5, 0.5, 0.5, 0.5, 0.5, 0.5, 1.0, 0.5, 0.5, 0.5, 0.5, 0.5, 0.5, 0.5, 0.9987437185929648, 1.0, 0.5, 0.5, 0.5, 0.5, 0.5, 0.5, 0.5, 0.5, 0.5, 0.5, 0.5, 0.5, 0.5, 0.5, 0.5, 0.5, 0.5, 0.5, 0.5, 0.5, 0.5, 0.5, 0.5, 0.5, 0.5, 0.5, 0.5, 0.5, 0.5, 0.5, 1.0, 0.5, 0.9999162479061976, 0.5, 0.5, 0.75, 0.5, 0.5, 0.5, 0.5, 0.5, 0.5, 0.5, 0.5, 0.9973366834170855, 1.0, 0.5, 0.5, 0.5, 0.5, 0.5, 0.5, 0.5, 0.5, 0.5, 0.5, 0.9987437185929648, 0.5, 0.5, 0.5, 1.0, 0.5, 0.5, 0.5, 0.5], [1.0, 0.7487437185929648, 0.9996984924623116, 1.0, 1.0, 0.7635814935657752, 0.9997654941373535, 0.9974874371859297, 0.5, 0.5, 0.9974874371859297, 0.5, 0.9999832495812395, 0.5, 0.999966499162479, 0.5, 1.0, 0.9997319932998325, 0.7606467566902443, 0.5, 1.0, 0.5, 0.5, 0.5, 0.9997989949748742, 0.5, 0.5, 0.5, 0.9974874371859297, 0.5, 0.9974874371859297, 0.9974874371859297, 0.8079854247541023, 0.5, 0.5, 0.9999664991624789, 0.5, 0.5, 0.5, 0.9974874371859297, 0.9996649916247906, 0.5, 0.5, 0.5, 0.9995812395309882, 0.5, 0.5, 0.7499329983249581, 0.9974874371859297, 0.9999832495812395, 1.0, 0.9974874371859297, 0.9974874371859297, 0.9974874371859297, 0.7495812395309883, 0.5, 0.5, 1.0, 0.5, 0.5, 0.5, 1.0, 0.5, 1.0, 0.9974874371859297, 0.5, 0.9994974874371859, 0.9987437185929648, 0.5, 0.7495812395309882, 0.5, 0.9998659966499162, 0.9974874371859297, 1.0, 1.0, 0.5, 0.9974874371859297, 0.9974874371859297, 0.5, 0.5, 0.749463986599665, 0.9974874371859297, 0.5, 0.9999497487437186, 0.5, 0.9999832495812395, 0.9974874371859297, 0.5, 0.9999162479061976, 0.5, 0.9974874371859297, 1.0, 1.0, 0.5, 0.5, 0.5, 1.0, 0.7569370549429613, 0.781236752482793, 0.5], [0.9974874371859297, 0.9974874371859297, 0.9974874371859297, 0.9974874371859297, 0.5, 0.9974874371859297, 0.9974874371859297, 0.5443548387096775, 0.9974874371859297, 0.9974874371859297, 0.9974874371859297, 0.9974874371859297, 0.5, 0.9974874371859297, 0.740521327014218, 0.7497133465830913, 0.9974874371859297, 0.9974874371859297, 0.9974874371859297, 0.5, 0.9974874371859297, 0.9974874371859297, 0.9974874371859297, 0.5, 0.9974874371859297, 0.7499426693166182, 0.9974874371859297, 0.5, 0.9974874371859297, 0.9974874371859297, 0.9974874371859297, 0.9974874371859297, 0.740521327014218, 0.5, 0.5, 0.5, 0.5, 0.5, 0.9974874371859297, 0.5, 0.5, 0.9974874371859297, 0.5, 0.5, 0.5, 0.9974874371859297, 0.75, 0.740521327014218, 0.9974874371859297, 0.9974874371859297, 0.5, 0.5, 0.9974874371859297, 0.9974874371859297, 0.5, 0.9974874371859297, 0.9974874371859297, 0.9974874371859297, 0.9974874371859297, 0.7403684451918666, 0.9974874371859297, 0.9974874371859297, 0.740521327014218, 0.7499235590888242, 0.5, 0.5, 0.5, 0.9974874371859297, 0.9974874371859297, 0.5, 0.9974874371859297, 0.5, 0.9974874371859297, 0.5, 0.7408270906589207, 0.9974874371859297, 0.75, 0.9974874371859297, 0.5, 0.5, 0.9974874371859297, 0.5, 0.9974874371859297, 0.9974874371859297, 0.9974874371859297, 0.9974874371859297, 0.5, 0.5, 0.5, 0.5, 0.5, 0.5, 0.9974874371859297, 0.9974874371859297, 0.9974874371859297, 0.9974874371859297, 0.9974874371859297, 0.9974874371859297, 0.9974874371859297, 0.9974874371859297], [0.5, 0.5, 0.5, 0.5, 0.5, 0.5, 0.5, 1.0, 0.5, 0.5, 0.5, 0.5, 0.5, 0.5, 0.5, 0.5, 0.5, 0.9974874371859297, 0.5, 0.5, 0.9974874371859297, 0.5, 0.5, 0.5, 0.5, 0.5, 0.5, 0.5, 0.5, 0.5, 0.5, 0.7447829078122612, 0.9974874371859297, 0.5, 0.5, 0.5, 0.5, 0.5, 0.5, 0.5, 0.5, 0.7452606635071091, 0.5, 0.9974874371859297, 0.5, 0.5, 0.5, 0.5, 0.9974874371859297, 0.9974874371859297, 0.9974874371859297, 0.5, 0.5, 0.5, 0.5, 0.5, 0.5, 0.5, 0.5, 0.5, 0.5, 0.9974874371859297, 0.5, 0.5, 0.5, 0.5, 0.5, 0.9974874371859297, 0.5, 0.5, 0.5, 0.9974874371859297, 0.5, 0.5, 0.5, 0.5, 0.5, 0.5, 0.5, 0.5, 0.5, 0.5, 0.5, 0.5, 0.5, 0.5, 0.5, 0.740521327014218, 0.5, 0.5, 0.5, 0.5, 0.5, 0.5, 0.5, 0.5, 0.5, 0.5, 0.5, 0.5], [0.9999664991624793, 0.5, 0.9999664991624793, 0.5, 0.5, 0.5, 0.5, 0.5, 1.0, 0.5, 0.9999832495812397, 0.9999832495812397, 0.9999664991624793, 0.9999664991624793, 0.5, 0.9999832495812396, 0.5, 0.5, 0.5, 0.5, 0.5, 0.9999832495812395, 0.9999664991624791, 0.5, 0.5, 0.5, 0.5, 0.9999832495812397, 0.5, 0.5, 0.9999832495812396, 0.5, 0.5, 0.5, 0.5, 1.0, 0.5, 0.5, 0.5, 0.999966499162479, 0.5, 0.9999329983249581, 0.5, 0.5, 0.9999664991624793, 0.5, 0.5, 0.5, 0.5, 0.9999832495812397, 0.5, 0.9999664991624793, 0.5, 0.5, 0.5, 0.5, 0.9999664991624793, 1.0, 0.5, 0.5, 0.5, 0.9999664991624793, 0.5, 0.9999832495812397, 0.5, 0.9999832495812397, 0.9999832495812397, 0.5, 0.5, 0.9999664991624791, 0.9999832495812395, 0.5, 0.5, 0.5, 0.5, 0.5, 0.5, 0.5, 0.5, 0.5, 1.0, 0.5, 0.5, 0.9974874371859297, 0.5, 0.5, 0.5, 0.5, 0.5, 0.5, 0.5, 0.5, 0.5, 0.5, 0.9999832495812397, 0.5, 0.5, 0.5, 0.5, 0.5], [0.5, 0.8722641644240159, 0.5, 0.5, 0.75, 0.5, 0.5, 0.75, 0.5, 0.5, 0.5, 0.75, 0.5, 0.5, 0.75, 0.5, 0.5, 0.5, 0.5, 0.5, 0.5, 0.874036850921273, 0.5, 0.5, 0.5, 0.9974874371859297, 0.5, 0.5, 0.5, 0.5, 0.5, 0.5, 0.5, 0.5, 0.5, 0.5, 0.5, 0.5, 0.5, 0.75, 0.75, 0.5, 0.5, 0.5, 0.5225118483412322, 0.5, 0.5, 0.7499426693166182, 0.7499235590888242, 0.5, 0.5, 0.5, 0.5, 0.5, 0.5, 0.5, 0.75, 0.5, 0.7499426693166182, 0.8775750791874062, 0.5, 0.5, 0.5, 0.75, 0.5, 0.5, 0.5, 0.5, 0.75, 0.5, 0.5, 0.5, 0.5, 0.5, 0.5, 0.75, 0.5, 0.5, 0.5, 0.5, 0.5, 0.5, 0.5, 0.9974874371859297, 0.5, 0.5, 0.5, 0.5, 0.5, 0.5, 0.5, 0.75, 0.5, 0.5, 0.5, 0.5, 0.5, 0.5, 0.5, 0.5]]\n"
     ]
    }
   ],
   "source": [
    "best_individual, final_avg_score, final_max_score, generations = NN.genetic_optimization(shuffle_train_list,shuffle_answer_list,generation_num,pop_num,cross_rate,mutation_rate, centers)"
   ]
  },
  {
   "cell_type": "code",
   "execution_count": 727,
   "metadata": {},
   "outputs": [
    {
     "data": {
      "text/plain": [
       "[32, 5, 0.29191907924414545, 1.6029846078821757e-07, 33, 29]"
      ]
     },
     "execution_count": 727,
     "metadata": {},
     "output_type": "execute_result"
    }
   ],
   "source": [
    "generations[19][94]"
   ]
  },
  {
   "cell_type": "code",
   "execution_count": 724,
   "metadata": {},
   "outputs": [
    {
     "data": {
      "text/plain": [
       "[<matplotlib.lines.Line2D at 0x7fd4dadda3d0>]"
      ]
     },
     "execution_count": 724,
     "metadata": {},
     "output_type": "execute_result"
    },
    {
     "data": {
      "image/png": "[encoded data removed]",
      "text/plain": [
       "<Figure size 432x288 with 1 Axes>"
      ]
     },
     "metadata": {
      "needs_background": "light"
     },
     "output_type": "display_data"
    }
   ],
   "source": [
    "plt.plot(final_avg_score)"
   ]
  },
  {
   "cell_type": "code",
   "execution_count": 725,
   "metadata": {},
   "outputs": [
    {
     "data": {
      "text/plain": [
       "[<matplotlib.lines.Line2D at 0x7fd4dab82340>]"
      ]
     },
     "execution_count": 725,
     "metadata": {},
     "output_type": "execute_result"
    },
    {
     "data": {
      "image/png": "[encoded data removed]",
      "text/plain": [
       "<Figure size 432x288 with 1 Axes>"
      ]
     },
     "metadata": {
      "needs_background": "light"
     },
     "output_type": "display_data"
    }
   ],
   "source": [
    "plt.plot(final_max_score)"
   ]
  },
  {
   "cell_type": "code",
   "execution_count": 893,
   "metadata": {},
   "outputs": [],
   "source": [
    "#validate winner from above\n",
    "#instantiate the neural network\n",
    "winner = generations[17][7]\n",
    "setup = [68,winner[0],winner[1],1]\n",
    "alpha = winner[2]\n",
    "lamba = winner[3] #0.1 is good\n",
    "batch_size = winner[5]\n",
    "epoch_number = winner[4]\n",
    "k = 2"
   ]
  },
  {
   "cell_type": "code",
   "execution_count": 894,
   "metadata": {},
   "outputs": [],
   "source": [
    "rap1_pos_list = io.import_positives('data/rap1-lieb-positives.txt')\n",
    "genom_neg_list = io.import_negatives('data/yeast-upstream-1k-negative.fa',17)\n",
    "rap1_test_list = io.import_positives('data/rap1-lieb-test.txt')"
   ]
  },
  {
   "cell_type": "code",
   "execution_count": 895,
   "metadata": {},
   "outputs": [],
   "source": [
    "shuffle_train_list, shuffle_answer_list = io.shuffle_concat(rap1_pos_list,genom_neg_list,3)"
   ]
  },
  {
   "cell_type": "code",
   "execution_count": 896,
   "metadata": {},
   "outputs": [
    {
     "name": "stdout",
     "output_type": "stream",
     "text": [
      "k size is 274\r"
     ]
    }
   ],
   "source": [
    " roc_FPRs, roc_TPRs  = NN.k_fold_validation(shuffle_train_list,shuffle_answer_list,epoch_number,batch_size,setup,alpha,lamba,k)"
   ]
  },
  {
   "cell_type": "code",
   "execution_count": 897,
   "metadata": {},
   "outputs": [
    {
     "data": {
      "text/plain": [
       "[<matplotlib.lines.Line2D at 0x7fd4fc2b6a00>]"
      ]
     },
     "execution_count": 897,
     "metadata": {},
     "output_type": "execute_result"
    },
    {
     "data": {
      "image/png": "[encoded data removed]",
      "text/plain": [
       "<Figure size 432x288 with 1 Axes>"
      ]
     },
     "metadata": {
      "needs_background": "light"
     },
     "output_type": "display_data"
    }
   ],
   "source": [
    "plt.plot(roc_FPRs[1],roc_TPRs[1])"
   ]
  },
  {
   "cell_type": "code",
   "execution_count": 851,
   "metadata": {},
   "outputs": [
    {
     "data": {
      "text/plain": [
       "[1.0, 1.0]"
      ]
     },
     "execution_count": 851,
     "metadata": {},
     "output_type": "execute_result"
    }
   ],
   "source": [
    "roc_AUCs = NN.roc_auc_list(roc_TPRs,roc_FPRs)\n",
    "roc_AUCs"
   ]
  },
  {
   "cell_type": "markdown",
   "metadata": {},
   "source": [
    "## These chunks take the \"best\" network and classify the test set"
   ]
  },
  {
   "cell_type": "code",
   "execution_count": 905,
   "metadata": {},
   "outputs": [],
   "source": [
    "winner = generations[17][7]\n",
    "setup = [68,winner[0],winner[1],1]\n",
    "alpha = winner[2]\n",
    "lamba = winner[3] #0.1 is good\n",
    "batch_size = winner[5]\n",
    "epoch_number = winner[4]"
   ]
  },
  {
   "cell_type": "code",
   "execution_count": 906,
   "metadata": {},
   "outputs": [],
   "source": [
    "rap1_pos_list = io.import_positives('data/rap1-lieb-positives.txt')\n",
    "genom_neg_list = io.import_negatives('data/yeast-upstream-1k-negative.fa',17)\n",
    "rap1_test_list = io.import_positives('data/rap1-lieb-test.txt')\n",
    "shuffle_train_list, shuffle_answer_list = io.shuffle_concat(rap1_pos_list,genom_neg_list,3)"
   ]
  },
  {
   "cell_type": "code",
   "execution_count": 907,
   "metadata": {},
   "outputs": [],
   "source": [
    "final_rap1 = NN.NeuralNetwork(setup,NN.activation,alpha,lamba)"
   ]
  },
  {
   "cell_type": "code",
   "execution_count": 909,
   "metadata": {},
   "outputs": [],
   "source": [
    "cost_list = final_rap1.train(epoch_number,batch_size, shuffle_train_list, shuffle_answer_list)"
   ]
  },
  {
   "cell_type": "code",
   "execution_count": 911,
   "metadata": {},
   "outputs": [],
   "source": [
    "test_scores = []\n",
    "for i in range(len(rap1_test_list)):\n",
    "    test_test = io.one_hot_encode([rap1_test_list[i]])\n",
    "    test_test = test_test[0]\n",
    "    test_scores.append(final_rap1.predict(test_test)[0])"
   ]
  },
  {
   "cell_type": "code",
   "execution_count": 938,
   "metadata": {},
   "outputs": [
    {
     "data": {
      "image/png": "[encoded data removed]",
      "text/plain": [
       "<Figure size 432x288 with 1 Axes>"
      ]
     },
     "metadata": {
      "needs_background": "light"
     },
     "output_type": "display_data"
    }
   ],
   "source": [
    "num_bins = 40\n",
    "n, bins, patches = plt.hist(test_scores, num_bins, facecolor = 'blue', alpha = 0.5)\n",
    "plt.xlabel('Rap1 Binding Prediction Score')\n",
    "plt.ylabel('Sequences per Bin')\n",
    "plt.title('Distribution of Prediction Scores on Test Set')\n",
    "plt.show()"
   ]
  },
  {
   "cell_type": "code",
   "execution_count": null,
   "metadata": {},
   "outputs": [],
   "source": []
  }
 ],
 "metadata": {
  "kernelspec": {
   "display_name": "Python 3",
   "language": "python",
   "name": "python3"
  },
  "language_info": {
   "codemirror_mode": {
    "name": "ipython",
    "version": 3
   },
   "file_extension": ".py",
   "mimetype": "text/x-python",
   "name": "python",
   "nbconvert_exporter": "python",
   "pygments_lexer": "ipython3",
   "version": "3.8.5"
  }
 },
 "nbformat": 4,
 "nbformat_minor": 4
}
